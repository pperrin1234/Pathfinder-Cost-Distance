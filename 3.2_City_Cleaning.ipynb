{
 "cells": [
  {
   "cell_type": "markdown",
   "id": "6d2ef051-5064-4059-a6be-ec6222b5d044",
   "metadata": {},
   "source": [
    "# Setup"
   ]
  },
  {
   "cell_type": "markdown",
   "id": "71ea66e3-e442-4e91-b92e-e978fa279668",
   "metadata": {},
   "source": [
    "### Run Previous Script"
   ]
  },
  {
   "cell_type": "markdown",
   "id": "ba40498f-0287-4106-b1c3-f7c3506564f6",
   "metadata": {},
   "source": [
    "Enable when debugging; elsewhere, just run it after running the master script."
   ]
  },
  {
   "cell_type": "code",
   "execution_count": 1,
   "id": "b40ce18b-bc98-4aed-8ddf-5e9f1be28903",
   "metadata": {},
   "outputs": [
    {
     "name": "stdout",
     "output_type": "stream",
     "text": [
      "Master Script has been run successfully!\n",
      "Cleaning Layers Script has been run successfully!\n",
      "Chosen Study Area: Stolen Lands\n",
      "City info not found. Regenerating new copy. Error printed below:\n",
      "ERROR MESSAGE: [Errno 2] No such file or directory: 'D:/0Coding Projects/GitHub/My Repositories/Pathfinder Mapping/Data/Cleaned_Data/city_info.txt'\n",
      "Regenerate Cities: True\n",
      "City Scraping Script has been run successfully!\n"
     ]
    }
   ],
   "source": [
    "#%run ./1_Master_Script.ipynb\n",
    "#%run ./2_Cleaning_Layers.ipynb\n",
    "#%run ./3.1_City_Scraping.ipynb"
   ]
  },
  {
   "cell_type": "markdown",
   "id": "63da8620-28d4-4f71-81c7-5fc12e9e53a8",
   "metadata": {},
   "source": [
    "### Pathfinder Wiki Cities"
   ]
  },
  {
   "cell_type": "markdown",
   "id": "2a847639-9dd3-457c-8044-4e9e962c767e",
   "metadata": {},
   "source": [
    "NOTE: this is called in the City Scraping script."
   ]
  },
  {
   "cell_type": "code",
   "execution_count": 2,
   "id": "8c0b0925-478c-472c-b551-9a0c645905f6",
   "metadata": {},
   "outputs": [
    {
     "data": {
      "text/html": [
       "\n",
       "            <style>\n",
       "                .geemap-dark {\n",
       "                    --jp-widgets-color: white;\n",
       "                    --jp-widgets-label-color: white;\n",
       "                    --jp-ui-font-color1: white;\n",
       "                    --jp-layout-color2: #454545;\n",
       "                    background-color: #383838;\n",
       "                }\n",
       "\n",
       "                .geemap-dark .jupyter-button {\n",
       "                    --jp-layout-color3: #383838;\n",
       "                }\n",
       "\n",
       "                .geemap-colab {\n",
       "                    background-color: var(--colab-primary-surface-color, white);\n",
       "                }\n",
       "\n",
       "                .geemap-colab .jupyter-button {\n",
       "                    --jp-layout-color3: var(--colab-primary-surface-color, white);\n",
       "                }\n",
       "            </style>\n",
       "            "
      ],
      "text/plain": [
       "<IPython.core.display.HTML object>"
      ]
     },
     "metadata": {},
     "output_type": "display_data"
    },
    {
     "data": {
      "text/html": [
       "<div>\n",
       "<style scoped>\n",
       "    .dataframe tbody tr th:only-of-type {\n",
       "        vertical-align: middle;\n",
       "    }\n",
       "\n",
       "    .dataframe tbody tr th {\n",
       "        vertical-align: top;\n",
       "    }\n",
       "\n",
       "    .dataframe thead th {\n",
       "        text-align: right;\n",
       "    }\n",
       "</style>\n",
       "<table border=\"1\" class=\"dataframe\">\n",
       "  <thead>\n",
       "    <tr style=\"text-align: right;\">\n",
       "      <th></th>\n",
       "      <th>Name</th>\n",
       "      <th>link</th>\n",
       "      <th>capital</th>\n",
       "      <th>size</th>\n",
       "      <th>text</th>\n",
       "      <th>articleLength</th>\n",
       "      <th>geometry</th>\n",
       "    </tr>\n",
       "  </thead>\n",
       "  <tbody>\n",
       "    <tr>\n",
       "      <th>0</th>\n",
       "      <td>Aaminiut</td>\n",
       "      <td>https://pathfinderwiki.com/wiki/Aaminiut</td>\n",
       "      <td>False</td>\n",
       "      <td>2</td>\n",
       "      <td>&lt;p&gt;&lt;b&gt;Aaminiut&lt;/b&gt; is the largest town in the ...</td>\n",
       "      <td>700</td>\n",
       "      <td>POINT (-43.3315 67.15341)</td>\n",
       "    </tr>\n",
       "    <tr>\n",
       "      <th>1</th>\n",
       "      <td>Aaramor</td>\n",
       "      <td>https://pathfinderwiki.com/wiki/Aaramor</td>\n",
       "      <td>False</td>\n",
       "      <td>2</td>\n",
       "      <td>&lt;p&gt;The city-fortress of &lt;b&gt;Aaramor&lt;/b&gt; is loca...</td>\n",
       "      <td>1400</td>\n",
       "      <td>POINT (-5.35496 51.01807)</td>\n",
       "    </tr>\n",
       "    <tr>\n",
       "      <th>2</th>\n",
       "      <td>Abberton</td>\n",
       "      <td>https://pathfinderwiki.com/wiki/Abberton</td>\n",
       "      <td>False</td>\n",
       "      <td>3</td>\n",
       "      <td>&lt;p&gt;&lt;b&gt;Abberton&lt;/b&gt; is a small, declining town ...</td>\n",
       "      <td>600</td>\n",
       "      <td>POINT (-0.55697 32.20194)</td>\n",
       "    </tr>\n",
       "    <tr>\n",
       "      <th>3</th>\n",
       "      <td>Abken</td>\n",
       "      <td>https://pathfinderwiki.com/wiki/Abken</td>\n",
       "      <td>False</td>\n",
       "      <td>2</td>\n",
       "      <td>&lt;p&gt;One of the newest settlements in &lt;a href=\"h...</td>\n",
       "      <td>1600</td>\n",
       "      <td>POINT (-20.54576 44.95886)</td>\n",
       "    </tr>\n",
       "    <tr>\n",
       "      <th>4</th>\n",
       "      <td>Absalom</td>\n",
       "      <td>https://pathfinderwiki.com/wiki/Absalom</td>\n",
       "      <td>True</td>\n",
       "      <td>0</td>\n",
       "      <td>&lt;p&gt;For more than 4,000 years, &lt;b&gt;Absalom&lt;/b&gt; (...</td>\n",
       "      <td>14500</td>\n",
       "      <td>POINT (-0.23431 30.88863)</td>\n",
       "    </tr>\n",
       "    <tr>\n",
       "      <th>...</th>\n",
       "      <td>...</td>\n",
       "      <td>...</td>\n",
       "      <td>...</td>\n",
       "      <td>...</td>\n",
       "      <td>...</td>\n",
       "      <td>...</td>\n",
       "      <td>...</td>\n",
       "    </tr>\n",
       "    <tr>\n",
       "      <th>846</th>\n",
       "      <td>Zimar</td>\n",
       "      <td>https://pathfinderwiki.com/wiki/Zimar</td>\n",
       "      <td>False</td>\n",
       "      <td>1</td>\n",
       "      <td>&lt;p&gt;One of the main defensive &lt;a href=\"https://...</td>\n",
       "      <td>2300</td>\n",
       "      <td>POINT (6.7078 31.58416)</td>\n",
       "    </tr>\n",
       "    <tr>\n",
       "      <th>847</th>\n",
       "      <td>Ziplatna</td>\n",
       "      <td>https://pathfinderwiki.com/wiki/Ziplatna</td>\n",
       "      <td>False</td>\n",
       "      <td>1</td>\n",
       "      <td>&lt;p&gt;&lt;b&gt;Ziplatna&lt;/b&gt; is the northernmost of the ...</td>\n",
       "      <td>300</td>\n",
       "      <td>POINT (-99.19609 14.74814)</td>\n",
       "    </tr>\n",
       "    <tr>\n",
       "      <th>848</th>\n",
       "      <td>Zlatomesto</td>\n",
       "      <td>https://pathfinderwiki.com/wiki/Zlatomesto</td>\n",
       "      <td>False</td>\n",
       "      <td>2</td>\n",
       "      <td>&lt;p&gt;&lt;b&gt;Zlatomesto&lt;/b&gt; is a small town in &lt;a hre...</td>\n",
       "      <td>900</td>\n",
       "      <td>POINT (-24.7329 51.73437)</td>\n",
       "    </tr>\n",
       "    <tr>\n",
       "      <th>849</th>\n",
       "      <td>Zom Kullan</td>\n",
       "      <td>https://pathfinderwiki.com/wiki/Zom_Kullan</td>\n",
       "      <td>True</td>\n",
       "      <td>0</td>\n",
       "      <td>&lt;p&gt;&lt;b&gt;Zom Kullan&lt;/b&gt;, the capital city of &lt;a h...</td>\n",
       "      <td>400</td>\n",
       "      <td>POINT (153.268 2.37258)</td>\n",
       "    </tr>\n",
       "    <tr>\n",
       "      <th>850</th>\n",
       "      <td>Ñarula</td>\n",
       "      <td>https://pathfinderwiki.com/wiki/Ñarula</td>\n",
       "      <td>False</td>\n",
       "      <td>3</td>\n",
       "      <td>&lt;p&gt;&lt;b&gt;Ñarula&lt;/b&gt; is a city in the south-west o...</td>\n",
       "      <td>700</td>\n",
       "      <td>POINT (-101.9607 12.62034)</td>\n",
       "    </tr>\n",
       "  </tbody>\n",
       "</table>\n",
       "<p>851 rows × 7 columns</p>\n",
       "</div>"
      ],
      "text/plain": [
       "           Name                                        link  capital  size  \\\n",
       "0      Aaminiut    https://pathfinderwiki.com/wiki/Aaminiut    False     2   \n",
       "1       Aaramor     https://pathfinderwiki.com/wiki/Aaramor    False     2   \n",
       "2      Abberton    https://pathfinderwiki.com/wiki/Abberton    False     3   \n",
       "3         Abken       https://pathfinderwiki.com/wiki/Abken    False     2   \n",
       "4       Absalom     https://pathfinderwiki.com/wiki/Absalom     True     0   \n",
       "..          ...                                         ...      ...   ...   \n",
       "846       Zimar       https://pathfinderwiki.com/wiki/Zimar    False     1   \n",
       "847    Ziplatna    https://pathfinderwiki.com/wiki/Ziplatna    False     1   \n",
       "848  Zlatomesto  https://pathfinderwiki.com/wiki/Zlatomesto    False     2   \n",
       "849  Zom Kullan  https://pathfinderwiki.com/wiki/Zom_Kullan     True     0   \n",
       "850      Ñarula      https://pathfinderwiki.com/wiki/Ñarula    False     3   \n",
       "\n",
       "                                                  text  articleLength  \\\n",
       "0    <p><b>Aaminiut</b> is the largest town in the ...            700   \n",
       "1    <p>The city-fortress of <b>Aaramor</b> is loca...           1400   \n",
       "2    <p><b>Abberton</b> is a small, declining town ...            600   \n",
       "3    <p>One of the newest settlements in <a href=\"h...           1600   \n",
       "4    <p>For more than 4,000 years, <b>Absalom</b> (...          14500   \n",
       "..                                                 ...            ...   \n",
       "846  <p>One of the main defensive <a href=\"https://...           2300   \n",
       "847  <p><b>Ziplatna</b> is the northernmost of the ...            300   \n",
       "848  <p><b>Zlatomesto</b> is a small town in <a hre...            900   \n",
       "849  <p><b>Zom Kullan</b>, the capital city of <a h...            400   \n",
       "850  <p><b>Ñarula</b> is a city in the south-west o...            700   \n",
       "\n",
       "                       geometry  \n",
       "0     POINT (-43.3315 67.15341)  \n",
       "1     POINT (-5.35496 51.01807)  \n",
       "2     POINT (-0.55697 32.20194)  \n",
       "3    POINT (-20.54576 44.95886)  \n",
       "4     POINT (-0.23431 30.88863)  \n",
       "..                          ...  \n",
       "846     POINT (6.7078 31.58416)  \n",
       "847  POINT (-99.19609 14.74814)  \n",
       "848   POINT (-24.7329 51.73437)  \n",
       "849     POINT (153.268 2.37258)  \n",
       "850  POINT (-101.9607 12.62034)  \n",
       "\n",
       "[851 rows x 7 columns]"
      ]
     },
     "execution_count": 2,
     "metadata": {},
     "output_type": "execute_result"
    }
   ],
   "source": [
    "cities"
   ]
  },
  {
   "cell_type": "code",
   "execution_count": 3,
   "id": "07b31275-5ed1-42fd-a729-2ee093c3b233",
   "metadata": {},
   "outputs": [
    {
     "data": {
      "text/html": [
       "\n",
       "            <style>\n",
       "                .geemap-dark {\n",
       "                    --jp-widgets-color: white;\n",
       "                    --jp-widgets-label-color: white;\n",
       "                    --jp-ui-font-color1: white;\n",
       "                    --jp-layout-color2: #454545;\n",
       "                    background-color: #383838;\n",
       "                }\n",
       "\n",
       "                .geemap-dark .jupyter-button {\n",
       "                    --jp-layout-color3: #383838;\n",
       "                }\n",
       "\n",
       "                .geemap-colab {\n",
       "                    background-color: var(--colab-primary-surface-color, white);\n",
       "                }\n",
       "\n",
       "                .geemap-colab .jupyter-button {\n",
       "                    --jp-layout-color3: var(--colab-primary-surface-color, white);\n",
       "                }\n",
       "            </style>\n",
       "            "
      ],
      "text/plain": [
       "<IPython.core.display.HTML object>"
      ]
     },
     "metadata": {},
     "output_type": "display_data"
    },
    {
     "data": {
      "text/plain": [
       "dict_keys(['data', 'timestamp'])"
      ]
     },
     "execution_count": 3,
     "metadata": {},
     "output_type": "execute_result"
    }
   ],
   "source": [
    "cities_info.keys()"
   ]
  },
  {
   "cell_type": "markdown",
   "id": "b63e1c8d-5a02-4990-99ff-10557e2954a8",
   "metadata": {},
   "source": [
    "# Cleaning"
   ]
  },
  {
   "cell_type": "markdown",
   "id": "7053a3e8-02d7-47fd-9f1c-107242f53f27",
   "metadata": {},
   "source": [
    "### Change CRS"
   ]
  },
  {
   "cell_type": "code",
   "execution_count": 4,
   "id": "64ed147d-e4d8-4c82-8fa4-9014986ef006",
   "metadata": {},
   "outputs": [
    {
     "data": {
      "text/html": [
       "\n",
       "            <style>\n",
       "                .geemap-dark {\n",
       "                    --jp-widgets-color: white;\n",
       "                    --jp-widgets-label-color: white;\n",
       "                    --jp-ui-font-color1: white;\n",
       "                    --jp-layout-color2: #454545;\n",
       "                    background-color: #383838;\n",
       "                }\n",
       "\n",
       "                .geemap-dark .jupyter-button {\n",
       "                    --jp-layout-color3: #383838;\n",
       "                }\n",
       "\n",
       "                .geemap-colab {\n",
       "                    background-color: var(--colab-primary-surface-color, white);\n",
       "                }\n",
       "\n",
       "                .geemap-colab .jupyter-button {\n",
       "                    --jp-layout-color3: var(--colab-primary-surface-color, white);\n",
       "                }\n",
       "            </style>\n",
       "            "
      ],
      "text/plain": [
       "<IPython.core.display.HTML object>"
      ]
     },
     "metadata": {},
     "output_type": "display_data"
    }
   ],
   "source": [
    "crs_cities = cities.copy()\n",
    "\n",
    "crs_cities = crs_cities.to_crs(chosen_crs)"
   ]
  },
  {
   "cell_type": "markdown",
   "id": "99c375d5-95f4-4dbf-95e2-638536093060",
   "metadata": {},
   "source": [
    "### Filtering"
   ]
  },
  {
   "cell_type": "markdown",
   "id": "d2fd267d-3a41-427b-b93a-777697ce2534",
   "metadata": {},
   "source": [
    "#### Study Area"
   ]
  },
  {
   "cell_type": "markdown",
   "id": "8e4bc180-808b-4e9d-9dd8-7dc0d13f1f39",
   "metadata": {},
   "source": [
    "Let's filter by the studyarea we've laid out elsewhere."
   ]
  },
  {
   "cell_type": "code",
   "execution_count": 5,
   "id": "0c5273cb-8d46-4c69-8ef7-8a175005a552",
   "metadata": {},
   "outputs": [
    {
     "data": {
      "text/html": [
       "\n",
       "            <style>\n",
       "                .geemap-dark {\n",
       "                    --jp-widgets-color: white;\n",
       "                    --jp-widgets-label-color: white;\n",
       "                    --jp-ui-font-color1: white;\n",
       "                    --jp-layout-color2: #454545;\n",
       "                    background-color: #383838;\n",
       "                }\n",
       "\n",
       "                .geemap-dark .jupyter-button {\n",
       "                    --jp-layout-color3: #383838;\n",
       "                }\n",
       "\n",
       "                .geemap-colab {\n",
       "                    background-color: var(--colab-primary-surface-color, white);\n",
       "                }\n",
       "\n",
       "                .geemap-colab .jupyter-button {\n",
       "                    --jp-layout-color3: var(--colab-primary-surface-color, white);\n",
       "                }\n",
       "            </style>\n",
       "            "
      ],
      "text/plain": [
       "<IPython.core.display.HTML object>"
      ]
     },
     "metadata": {},
     "output_type": "display_data"
    },
    {
     "name": "stdout",
     "output_type": "stream",
     "text": [
      "RESULT: From 851 cities, 835 were removed, leaving just 16.\n"
     ]
    }
   ],
   "source": [
    "cities_filter = crs_cities.copy()\n",
    "\n",
    "cities_filter = gpd.sjoin(cities_filter, studyarea)\n",
    "cities_filter = cities_filter.drop(columns = ['index_right'])\n",
    "cities_filter = cities_filter.reset_index(drop = True)\n",
    "\n",
    "# Diagnostic\n",
    "cities_before = len(crs_cities)\n",
    "cities_after = len(cities_filter)\n",
    "\n",
    "print(f\"RESULT: From {cities_before} cities, {cities_before - cities_after} were removed, leaving just {cities_after}.\")"
   ]
  },
  {
   "cell_type": "markdown",
   "id": "43a6c9c1-85f4-4832-978f-93058cde31be",
   "metadata": {},
   "source": [
    "#### Remove Narland Cities"
   ]
  },
  {
   "cell_type": "markdown",
   "id": "d8f0d62a-52dd-40c9-baee-8ff7371d88e6",
   "metadata": {},
   "source": [
    "Narland is another name for The Stolen Lands. This city data comes *after*, chronologically, the events from the campaign I am running, so there are cities in The Stolen Lands that should not exist yet. This section removes those cities."
   ]
  },
  {
   "cell_type": "code",
   "execution_count": 6,
   "id": "cef1df8e-09a8-4345-bfd0-00557c226add",
   "metadata": {},
   "outputs": [
    {
     "data": {
      "text/html": [
       "\n",
       "            <style>\n",
       "                .geemap-dark {\n",
       "                    --jp-widgets-color: white;\n",
       "                    --jp-widgets-label-color: white;\n",
       "                    --jp-ui-font-color1: white;\n",
       "                    --jp-layout-color2: #454545;\n",
       "                    background-color: #383838;\n",
       "                }\n",
       "\n",
       "                .geemap-dark .jupyter-button {\n",
       "                    --jp-layout-color3: #383838;\n",
       "                }\n",
       "\n",
       "                .geemap-colab {\n",
       "                    background-color: var(--colab-primary-surface-color, white);\n",
       "                }\n",
       "\n",
       "                .geemap-colab .jupyter-button {\n",
       "                    --jp-layout-color3: var(--colab-primary-surface-color, white);\n",
       "                }\n",
       "            </style>\n",
       "            "
      ],
      "text/plain": [
       "<IPython.core.display.HTML object>"
      ]
     },
     "metadata": {},
     "output_type": "display_data"
    },
    {
     "name": "stdout",
     "output_type": "stream",
     "text": [
      "RESULT: From 16 cities, 2 were removed, leaving just 14.\n"
     ]
    }
   ],
   "source": [
    "cities_narland = cities_filter.copy()\n",
    "\n",
    "narland_list = cities_narland.copy()\n",
    "stolen = study_dict['stolen_lands'].copy()\n",
    "stolen = stolen.loc[stolen['province'] == 'Narland']\n",
    "narland_list = gpd.clip(narland_list,stolen)\n",
    "narland_list = narland_list.loc[narland_list['Name'] != 'Restov'] # On the wrong side of the border!\n",
    "narland_list = narland_list.loc[narland_list['Name'] != \"Nivakta's Crossing\"] # On the wrong side of the border!\n",
    "narland_list = narland_list['Name'].to_list()\n",
    "\n",
    "cities_narland = cities_narland.loc[~cities_narland['Name'].isin(narland_list)]\n",
    "\n",
    "# Diagnostic\n",
    "cities_before = len(cities_filter)\n",
    "cities_after = len(cities_narland)\n",
    "\n",
    "print(f\"RESULT: From {cities_before} cities, {cities_before - cities_after} were removed, leaving just {cities_after}.\")"
   ]
  },
  {
   "cell_type": "markdown",
   "id": "b124a78a-f9aa-489b-bea9-7fb6f9f508d9",
   "metadata": {},
   "source": [
    "#### Filter City Info"
   ]
  },
  {
   "cell_type": "markdown",
   "id": "a07d8f05-313e-4b89-a830-ca4a3cacafd8",
   "metadata": {},
   "source": [
    "Now let's take the remaining cities, and filter city info by them."
   ]
  },
  {
   "cell_type": "code",
   "execution_count": 7,
   "id": "32e3fb9a-a3f5-4cff-b1c1-c196451258a0",
   "metadata": {},
   "outputs": [
    {
     "data": {
      "text/html": [
       "\n",
       "            <style>\n",
       "                .geemap-dark {\n",
       "                    --jp-widgets-color: white;\n",
       "                    --jp-widgets-label-color: white;\n",
       "                    --jp-ui-font-color1: white;\n",
       "                    --jp-layout-color2: #454545;\n",
       "                    background-color: #383838;\n",
       "                }\n",
       "\n",
       "                .geemap-dark .jupyter-button {\n",
       "                    --jp-layout-color3: #383838;\n",
       "                }\n",
       "\n",
       "                .geemap-colab {\n",
       "                    background-color: var(--colab-primary-surface-color, white);\n",
       "                }\n",
       "\n",
       "                .geemap-colab .jupyter-button {\n",
       "                    --jp-layout-color3: var(--colab-primary-surface-color, white);\n",
       "                }\n",
       "            </style>\n",
       "            "
      ],
      "text/plain": [
       "<IPython.core.display.HTML object>"
      ]
     },
     "metadata": {},
     "output_type": "display_data"
    }
   ],
   "source": [
    "city_info_filtered = {\n",
    "    'data': dict(),\n",
    "    'timestamp': cities_info['timestamp']\n",
    "}\n",
    "\n",
    "city_keep = cities_narland['Name'].to_list()\n",
    "\n",
    "for city in city_keep:\n",
    "\n",
    "    try:\n",
    "        city_info_filtered['data'][city] = cities_info['data'][city]\n",
    "    except Exception as e:\n",
    "        #print(f\"ERROR with {city}: {e}\")\n",
    "        city_info_filtered['data'][city] = 'ERROR'\n",
    "\n",
    "#city_info_filtered"
   ]
  },
  {
   "cell_type": "markdown",
   "id": "432c1e96-341f-4f33-a035-4ead14a36285",
   "metadata": {},
   "source": [
    "### Enrichment"
   ]
  },
  {
   "cell_type": "markdown",
   "id": "ca5266f8-38a1-470c-8b5b-263f815b4451",
   "metadata": {},
   "source": [
    "Now let's use the cities we have left, and enrich them with the data scraped from the wiki."
   ]
  },
  {
   "cell_type": "markdown",
   "id": "cf479861-26b1-4fb3-9f1e-bb66d50966da",
   "metadata": {},
   "source": [
    "#### Features"
   ]
  },
  {
   "cell_type": "markdown",
   "id": "9e8d74cd-d0ef-40f0-bb84-12edd5019d2c",
   "metadata": {},
   "source": [
    "Let's figure out how many features there are. Some pages vary in what features they have, so let's loop through the keys to find all unique keys."
   ]
  },
  {
   "cell_type": "code",
   "execution_count": 8,
   "id": "2bdd697b-8e07-428c-9492-7294f435ca3e",
   "metadata": {},
   "outputs": [
    {
     "data": {
      "text/html": [
       "\n",
       "            <style>\n",
       "                .geemap-dark {\n",
       "                    --jp-widgets-color: white;\n",
       "                    --jp-widgets-label-color: white;\n",
       "                    --jp-ui-font-color1: white;\n",
       "                    --jp-layout-color2: #454545;\n",
       "                    background-color: #383838;\n",
       "                }\n",
       "\n",
       "                .geemap-dark .jupyter-button {\n",
       "                    --jp-layout-color3: #383838;\n",
       "                }\n",
       "\n",
       "                .geemap-colab {\n",
       "                    background-color: var(--colab-primary-surface-color, white);\n",
       "                }\n",
       "\n",
       "                .geemap-colab .jupyter-button {\n",
       "                    --jp-layout-color3: var(--colab-primary-surface-color, white);\n",
       "                }\n",
       "            </style>\n",
       "            "
      ],
      "text/plain": [
       "<IPython.core.display.HTML object>"
      ]
     },
     "metadata": {},
     "output_type": "display_data"
    },
    {
     "data": {
      "text/plain": [
       "['Nation',\n",
       " 'Region',\n",
       " 'Land',\n",
       " 'Size',\n",
       " 'Leader',\n",
       " 'Government',\n",
       " 'Capital',\n",
       " 'Titles',\n",
       " 'Adjective',\n",
       " 'Languages',\n",
       " 'Demonym',\n",
       " 'Alignment',\n",
       " 'Level',\n",
       " 'Religions',\n",
       " 'Ruler',\n",
       " 'Demographics',\n",
       " 'Population']"
      ]
     },
     "execution_count": 8,
     "metadata": {},
     "output_type": "execute_result"
    }
   ],
   "source": [
    "cities_info_keys = list()\n",
    "\n",
    "for city in city_keep:\n",
    "\n",
    "    try:\n",
    "        keys = city_info_filtered['data'][city].keys()\n",
    "    except:\n",
    "        continue\n",
    "    \n",
    "    keys = list(keys)\n",
    "\n",
    "    # Combine without duplicates\n",
    "    cities_info_keys = list(set(cities_info_keys + keys))\n",
    "\n",
    "cities_info_keys"
   ]
  },
  {
   "cell_type": "markdown",
   "id": "305a617e-33c3-483b-832a-3676746f84a0",
   "metadata": {},
   "source": [
    "#### Extraction"
   ]
  },
  {
   "cell_type": "markdown",
   "id": "c87d823e-bd9f-4d13-8438-80242bed28df",
   "metadata": {},
   "source": [
    "Now that we have all the possible keys, we can start creating lists to then add to the cities dataframe."
   ]
  },
  {
   "cell_type": "code",
   "execution_count": 9,
   "id": "dd752b3d-905f-4ede-8415-95a07b868a08",
   "metadata": {},
   "outputs": [
    {
     "data": {
      "text/html": [
       "\n",
       "            <style>\n",
       "                .geemap-dark {\n",
       "                    --jp-widgets-color: white;\n",
       "                    --jp-widgets-label-color: white;\n",
       "                    --jp-ui-font-color1: white;\n",
       "                    --jp-layout-color2: #454545;\n",
       "                    background-color: #383838;\n",
       "                }\n",
       "\n",
       "                .geemap-dark .jupyter-button {\n",
       "                    --jp-layout-color3: #383838;\n",
       "                }\n",
       "\n",
       "                .geemap-colab {\n",
       "                    background-color: var(--colab-primary-surface-color, white);\n",
       "                }\n",
       "\n",
       "                .geemap-colab .jupyter-button {\n",
       "                    --jp-layout-color3: var(--colab-primary-surface-color, white);\n",
       "                }\n",
       "            </style>\n",
       "            "
      ],
      "text/plain": [
       "<IPython.core.display.HTML object>"
      ]
     },
     "metadata": {},
     "output_type": "display_data"
    }
   ],
   "source": [
    "cities_enrich = cities_narland.copy()\n",
    "\n",
    "for feature in cities_info_keys:\n",
    "\n",
    "    feature_list = list()\n",
    "\n",
    "    for city in city_keep:\n",
    "\n",
    "        try:\n",
    "            city_feature = city_info_filtered['data'][city][feature]\n",
    "        except:\n",
    "            city_feature = pd.NA\n",
    "\n",
    "        feature_list.append(city_feature)\n",
    "\n",
    "    cities_enrich[feature] = feature_list"
   ]
  },
  {
   "cell_type": "markdown",
   "id": "606a89eb-85b4-483c-9eb0-b6ed92a37629",
   "metadata": {},
   "source": [
    "#### Clean Numbers"
   ]
  },
  {
   "cell_type": "markdown",
   "id": "d1f343bd-24cc-4ee6-b766-c926df22742f",
   "metadata": {},
   "source": [
    "Some columns are numbered, but were interpreted as strings due to them containing some character, like the cross notation symbol. Let's remove them."
   ]
  },
  {
   "cell_type": "markdown",
   "id": "393ff690-19c5-4f08-a715-b177c7b1be93",
   "metadata": {},
   "source": [
    "This function removes a defined list of symbols. The flaw is that the list must manually expand, but that comes with the benefit of added control over the cleaning process."
   ]
  },
  {
   "cell_type": "code",
   "execution_count": 10,
   "id": "dda1fd39-dcc4-4488-a02a-7f7fb7700776",
   "metadata": {},
   "outputs": [
    {
     "data": {
      "text/html": [
       "\n",
       "            <style>\n",
       "                .geemap-dark {\n",
       "                    --jp-widgets-color: white;\n",
       "                    --jp-widgets-label-color: white;\n",
       "                    --jp-ui-font-color1: white;\n",
       "                    --jp-layout-color2: #454545;\n",
       "                    background-color: #383838;\n",
       "                }\n",
       "\n",
       "                .geemap-dark .jupyter-button {\n",
       "                    --jp-layout-color3: #383838;\n",
       "                }\n",
       "\n",
       "                .geemap-colab {\n",
       "                    background-color: var(--colab-primary-surface-color, white);\n",
       "                }\n",
       "\n",
       "                .geemap-colab .jupyter-button {\n",
       "                    --jp-layout-color3: var(--colab-primary-surface-color, white);\n",
       "                }\n",
       "            </style>\n",
       "            "
      ],
      "text/plain": [
       "<IPython.core.display.HTML object>"
      ]
     },
     "metadata": {},
     "output_type": "display_data"
    }
   ],
   "source": [
    "def remove_symbols(value):\n",
    "\n",
    "    symbols = ['✝'] # Add more in a string\n",
    "    # do NOT add ',', as it's cleaned elsewhere\n",
    "\n",
    "    try:\n",
    "        value = str(value)\n",
    "    except Exception as e:\n",
    "        #print(e)\n",
    "        return value # Comes into play if, for example, value is np.NaN\n",
    "        \n",
    "    for symbol in symbols:\n",
    "\n",
    "        result = re.sub(symbol,'', value)\n",
    "\n",
    "    return result"
   ]
  },
  {
   "cell_type": "markdown",
   "id": "f97d8153-e09e-4acb-8517-416bd6e1c388",
   "metadata": {},
   "source": [
    "Now, let's remove commas with blank spaces, and see if that solves the issue."
   ]
  },
  {
   "cell_type": "code",
   "execution_count": 11,
   "id": "38209bbb-d100-483e-a3e2-f746ae2b8591",
   "metadata": {},
   "outputs": [
    {
     "data": {
      "text/html": [
       "\n",
       "            <style>\n",
       "                .geemap-dark {\n",
       "                    --jp-widgets-color: white;\n",
       "                    --jp-widgets-label-color: white;\n",
       "                    --jp-ui-font-color1: white;\n",
       "                    --jp-layout-color2: #454545;\n",
       "                    background-color: #383838;\n",
       "                }\n",
       "\n",
       "                .geemap-dark .jupyter-button {\n",
       "                    --jp-layout-color3: #383838;\n",
       "                }\n",
       "\n",
       "                .geemap-colab {\n",
       "                    background-color: var(--colab-primary-surface-color, white);\n",
       "                }\n",
       "\n",
       "                .geemap-colab .jupyter-button {\n",
       "                    --jp-layout-color3: var(--colab-primary-surface-color, white);\n",
       "                }\n",
       "            </style>\n",
       "            "
      ],
      "text/plain": [
       "<IPython.core.display.HTML object>"
      ]
     },
     "metadata": {},
     "output_type": "display_data"
    }
   ],
   "source": [
    "def remove_commas(value):\n",
    "\n",
    "    try:\n",
    "        \n",
    "        result = int(value.replace(',', ''))\n",
    "\n",
    "    except Exception as e:\n",
    "\n",
    "        #print(e)\n",
    "\n",
    "        result = value\n",
    "\n",
    "    return result"
   ]
  },
  {
   "cell_type": "code",
   "execution_count": 12,
   "id": "42f1691e-6f57-4eeb-a409-bbe4255f86e7",
   "metadata": {},
   "outputs": [
    {
     "data": {
      "text/html": [
       "\n",
       "            <style>\n",
       "                .geemap-dark {\n",
       "                    --jp-widgets-color: white;\n",
       "                    --jp-widgets-label-color: white;\n",
       "                    --jp-ui-font-color1: white;\n",
       "                    --jp-layout-color2: #454545;\n",
       "                    background-color: #383838;\n",
       "                }\n",
       "\n",
       "                .geemap-dark .jupyter-button {\n",
       "                    --jp-layout-color3: #383838;\n",
       "                }\n",
       "\n",
       "                .geemap-colab {\n",
       "                    background-color: var(--colab-primary-surface-color, white);\n",
       "                }\n",
       "\n",
       "                .geemap-colab .jupyter-button {\n",
       "                    --jp-layout-color3: var(--colab-primary-surface-color, white);\n",
       "                }\n",
       "            </style>\n",
       "            "
      ],
      "text/plain": [
       "<IPython.core.display.HTML object>"
      ]
     },
     "metadata": {},
     "output_type": "display_data"
    },
    {
     "data": {
      "text/html": [
       "<div>\n",
       "<style scoped>\n",
       "    .dataframe tbody tr th:only-of-type {\n",
       "        vertical-align: middle;\n",
       "    }\n",
       "\n",
       "    .dataframe tbody tr th {\n",
       "        vertical-align: top;\n",
       "    }\n",
       "\n",
       "    .dataframe thead th {\n",
       "        text-align: right;\n",
       "    }\n",
       "</style>\n",
       "<table border=\"1\" class=\"dataframe\">\n",
       "  <thead>\n",
       "    <tr style=\"text-align: right;\">\n",
       "      <th></th>\n",
       "      <th>Name</th>\n",
       "      <th>Population</th>\n",
       "      <th>TEST</th>\n",
       "    </tr>\n",
       "  </thead>\n",
       "  <tbody>\n",
       "    <tr>\n",
       "      <th>0</th>\n",
       "      <td>Avendale</td>\n",
       "      <td>11,280</td>\n",
       "      <td>11280</td>\n",
       "    </tr>\n",
       "    <tr>\n",
       "      <th>1</th>\n",
       "      <td>Brunderton</td>\n",
       "      <td>1,120</td>\n",
       "      <td>1120</td>\n",
       "    </tr>\n",
       "    <tr>\n",
       "      <th>3</th>\n",
       "      <td>Jovvox</td>\n",
       "      <td>1,450</td>\n",
       "      <td>1450</td>\n",
       "    </tr>\n",
       "    <tr>\n",
       "      <th>4</th>\n",
       "      <td>Littletown</td>\n",
       "      <td>297</td>\n",
       "      <td>297</td>\n",
       "    </tr>\n",
       "    <tr>\n",
       "      <th>5</th>\n",
       "      <td>Mivon</td>\n",
       "      <td>&lt;NA&gt;</td>\n",
       "      <td>&lt;NA&gt;</td>\n",
       "    </tr>\n",
       "    <tr>\n",
       "      <th>6</th>\n",
       "      <td>Mormouth</td>\n",
       "      <td>7401</td>\n",
       "      <td>7401</td>\n",
       "    </tr>\n",
       "    <tr>\n",
       "      <th>7</th>\n",
       "      <td>New Stetven</td>\n",
       "      <td>32,850</td>\n",
       "      <td>32850</td>\n",
       "    </tr>\n",
       "    <tr>\n",
       "      <th>8</th>\n",
       "      <td>Nivakta's Crossing</td>\n",
       "      <td>140</td>\n",
       "      <td>140</td>\n",
       "    </tr>\n",
       "    <tr>\n",
       "      <th>9</th>\n",
       "      <td>Pitax</td>\n",
       "      <td>5,881✝</td>\n",
       "      <td>5881</td>\n",
       "    </tr>\n",
       "    <tr>\n",
       "      <th>10</th>\n",
       "      <td>Restov</td>\n",
       "      <td>18,670</td>\n",
       "      <td>18670</td>\n",
       "    </tr>\n",
       "    <tr>\n",
       "      <th>11</th>\n",
       "      <td>Sarain</td>\n",
       "      <td>414</td>\n",
       "      <td>414</td>\n",
       "    </tr>\n",
       "    <tr>\n",
       "      <th>12</th>\n",
       "      <td>Seredain</td>\n",
       "      <td>3,539</td>\n",
       "      <td>3539</td>\n",
       "    </tr>\n",
       "    <tr>\n",
       "      <th>13</th>\n",
       "      <td>Uringen</td>\n",
       "      <td>1,213</td>\n",
       "      <td>1213</td>\n",
       "    </tr>\n",
       "    <tr>\n",
       "      <th>15</th>\n",
       "      <td>Voluse</td>\n",
       "      <td>1,380</td>\n",
       "      <td>1380</td>\n",
       "    </tr>\n",
       "  </tbody>\n",
       "</table>\n",
       "</div>"
      ],
      "text/plain": [
       "                  Name Population   TEST\n",
       "0             Avendale     11,280  11280\n",
       "1           Brunderton      1,120   1120\n",
       "3               Jovvox      1,450   1450\n",
       "4           Littletown        297    297\n",
       "5                Mivon       <NA>   <NA>\n",
       "6             Mormouth       7401   7401\n",
       "7          New Stetven     32,850  32850\n",
       "8   Nivakta's Crossing        140    140\n",
       "9                Pitax     5,881✝   5881\n",
       "10              Restov     18,670  18670\n",
       "11              Sarain        414    414\n",
       "12            Seredain      3,539   3539\n",
       "13             Uringen      1,213   1213\n",
       "15              Voluse      1,380   1380"
      ]
     },
     "execution_count": 12,
     "metadata": {},
     "output_type": "execute_result"
    }
   ],
   "source": [
    "cleaning_list = [ # Names of columns to clean\n",
    "    'Population'\n",
    "]\n",
    "\n",
    "method_list = [\n",
    "    remove_symbols,\n",
    "    remove_commas\n",
    "]\n",
    "\n",
    "for column in cleaning_list:\n",
    "\n",
    "    new_col = cities_enrich[column]\n",
    "    \n",
    "    # Apply layers of cleaning\n",
    "    for method in method_list:\n",
    "\n",
    "        new_col = new_col.apply(method)\n",
    "\n",
    "    # Create diagnostic\n",
    "    city_diagnostic = cities_enrich[['Name','Population']].copy()\n",
    "    city_diagnostic['TEST'] = new_col\n",
    "\n",
    "    # Overwrite\n",
    "    cities_enrich[column] = new_col\n",
    "\n",
    "# TESTING\n",
    "city_diagnostic"
   ]
  },
  {
   "cell_type": "markdown",
   "id": "f0f02fd9-e807-4a8a-84d7-a544f3622535",
   "metadata": {},
   "source": [
    "### Size 0 Dummy Variable"
   ]
  },
  {
   "cell_type": "markdown",
   "id": "eedf4e07-caba-4173-ab27-66304d26b213",
   "metadata": {},
   "source": [
    "I want to know which cities, regardless of capital status, are the largest size."
   ]
  },
  {
   "cell_type": "code",
   "execution_count": 13,
   "id": "f45ff9b7-792e-4495-bb0c-92dbe18d76d6",
   "metadata": {},
   "outputs": [
    {
     "data": {
      "text/html": [
       "\n",
       "            <style>\n",
       "                .geemap-dark {\n",
       "                    --jp-widgets-color: white;\n",
       "                    --jp-widgets-label-color: white;\n",
       "                    --jp-ui-font-color1: white;\n",
       "                    --jp-layout-color2: #454545;\n",
       "                    background-color: #383838;\n",
       "                }\n",
       "\n",
       "                .geemap-dark .jupyter-button {\n",
       "                    --jp-layout-color3: #383838;\n",
       "                }\n",
       "\n",
       "                .geemap-colab {\n",
       "                    background-color: var(--colab-primary-surface-color, white);\n",
       "                }\n",
       "\n",
       "                .geemap-colab .jupyter-button {\n",
       "                    --jp-layout-color3: var(--colab-primary-surface-color, white);\n",
       "                }\n",
       "            </style>\n",
       "            "
      ],
      "text/plain": [
       "<IPython.core.display.HTML object>"
      ]
     },
     "metadata": {},
     "output_type": "display_data"
    }
   ],
   "source": [
    "size0_cities = cities_enrich.copy()\n",
    "\n",
    "size0_cities['size0'] = np.where(size0_cities['size'] == 0, True, False)"
   ]
  },
  {
   "cell_type": "markdown",
   "id": "2de962c8-0f1c-492a-bd0f-09efca2fe458",
   "metadata": {},
   "source": [
    "# New Layers"
   ]
  },
  {
   "cell_type": "markdown",
   "id": "05c7a370-d1a6-4fd3-a201-c9924d339821",
   "metadata": {},
   "source": [
    "### City Alignment (IDEA)"
   ]
  },
  {
   "cell_type": "markdown",
   "id": "d85e54e1-ddb9-46f3-a502-331c998b03de",
   "metadata": {},
   "source": [
    "The idea behind this is that, in general, 'good' aligned cities should be safer than neutral, and netural safer than evil, for a good-aligned party. And so the countryside around the city should repreent that.\n",
    "\n",
    "How to actually implement this, though, is uncertain. How should overlaps be handled? Should it be done through buffering, or some kind of weighted interpolation (the weight being for size of city)?"
   ]
  },
  {
   "cell_type": "markdown",
   "id": "7cdc8bd7-ffc6-423d-b1b6-2f0dac60198c",
   "metadata": {},
   "source": [
    "# Final"
   ]
  },
  {
   "cell_type": "code",
   "execution_count": 14,
   "id": "3e09fc75-af17-4ccb-b619-e0351d300fc8",
   "metadata": {},
   "outputs": [
    {
     "data": {
      "text/html": [
       "\n",
       "            <style>\n",
       "                .geemap-dark {\n",
       "                    --jp-widgets-color: white;\n",
       "                    --jp-widgets-label-color: white;\n",
       "                    --jp-ui-font-color1: white;\n",
       "                    --jp-layout-color2: #454545;\n",
       "                    background-color: #383838;\n",
       "                }\n",
       "\n",
       "                .geemap-dark .jupyter-button {\n",
       "                    --jp-layout-color3: #383838;\n",
       "                }\n",
       "\n",
       "                .geemap-colab {\n",
       "                    background-color: var(--colab-primary-surface-color, white);\n",
       "                }\n",
       "\n",
       "                .geemap-colab .jupyter-button {\n",
       "                    --jp-layout-color3: var(--colab-primary-surface-color, white);\n",
       "                }\n",
       "            </style>\n",
       "            "
      ],
      "text/plain": [
       "<IPython.core.display.HTML object>"
      ]
     },
     "metadata": {},
     "output_type": "display_data"
    }
   ],
   "source": [
    "final_cities = size0_cities.copy()"
   ]
  },
  {
   "cell_type": "markdown",
   "id": "073d6092-a801-4830-9d69-d02036a2ad22",
   "metadata": {},
   "source": [
    "# Run Message"
   ]
  },
  {
   "cell_type": "markdown",
   "id": "1759da18-3d3d-418e-b382-9fb4b316acf4",
   "metadata": {},
   "source": [
    "This is to show key info when this script is run in another script."
   ]
  },
  {
   "cell_type": "code",
   "execution_count": 15,
   "id": "75769839-c51e-4c22-8a5e-e0b91ceba000",
   "metadata": {},
   "outputs": [
    {
     "data": {
      "text/html": [
       "\n",
       "            <style>\n",
       "                .geemap-dark {\n",
       "                    --jp-widgets-color: white;\n",
       "                    --jp-widgets-label-color: white;\n",
       "                    --jp-ui-font-color1: white;\n",
       "                    --jp-layout-color2: #454545;\n",
       "                    background-color: #383838;\n",
       "                }\n",
       "\n",
       "                .geemap-dark .jupyter-button {\n",
       "                    --jp-layout-color3: #383838;\n",
       "                }\n",
       "\n",
       "                .geemap-colab {\n",
       "                    background-color: var(--colab-primary-surface-color, white);\n",
       "                }\n",
       "\n",
       "                .geemap-colab .jupyter-button {\n",
       "                    --jp-layout-color3: var(--colab-primary-surface-color, white);\n",
       "                }\n",
       "            </style>\n",
       "            "
      ],
      "text/plain": [
       "<IPython.core.display.HTML object>"
      ]
     },
     "metadata": {},
     "output_type": "display_data"
    },
    {
     "name": "stdout",
     "output_type": "stream",
     "text": [
      "City Cleaning Script has been run successfully!\n"
     ]
    }
   ],
   "source": [
    "print(\"City Cleaning Script has been run successfully!\")"
   ]
  }
 ],
 "metadata": {
  "kernelspec": {
   "display_name": "Python 3 (ipykernel)",
   "language": "python",
   "name": "python3"
  },
  "language_info": {
   "codemirror_mode": {
    "name": "ipython",
    "version": 3
   },
   "file_extension": ".py",
   "mimetype": "text/x-python",
   "name": "python",
   "nbconvert_exporter": "python",
   "pygments_lexer": "ipython3",
   "version": "3.12.5"
  }
 },
 "nbformat": 4,
 "nbformat_minor": 5
}
