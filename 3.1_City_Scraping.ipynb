{
 "cells": [
  {
   "cell_type": "markdown",
   "id": "6d2ef051-5064-4059-a6be-ec6222b5d044",
   "metadata": {},
   "source": [
    "# Setup"
   ]
  },
  {
   "cell_type": "markdown",
   "id": "71ea66e3-e442-4e91-b92e-e978fa279668",
   "metadata": {},
   "source": [
    "### Run Previous Script"
   ]
  },
  {
   "cell_type": "markdown",
   "id": "ba40498f-0287-4106-b1c3-f7c3506564f6",
   "metadata": {},
   "source": [
    "Enable when debugging; elsewhere, just run it after running the master script."
   ]
  },
  {
   "cell_type": "code",
   "execution_count": 1,
   "id": "b40ce18b-bc98-4aed-8ddf-5e9f1be28903",
   "metadata": {},
   "outputs": [
    {
     "name": "stdout",
     "output_type": "stream",
     "text": [
      "Master Script has been run successfully!\n",
      "Cleaning Layers Script has been run successfully!\n",
      "Chosen Study Area: Stolen Lands\n"
     ]
    }
   ],
   "source": [
    "#%run ./1_Master_Script.ipynb\n",
    "#%run ./2_Cleaning_layers.ipynb"
   ]
  },
  {
   "cell_type": "markdown",
   "id": "63da8620-28d4-4f71-81c7-5fc12e9e53a8",
   "metadata": {},
   "source": [
    "### Pathfinder Wiki Cities"
   ]
  },
  {
   "cell_type": "markdown",
   "id": "8285feba-5b8a-4191-ab0d-87a04e3ab564",
   "metadata": {},
   "source": [
    "NOTE: this database collects data on ALL cities from the Wiki. For that reason, we're using the source file for cities, as we're interested only in the wiki links it provides."
   ]
  },
  {
   "cell_type": "code",
   "execution_count": 2,
   "id": "b658be10-ec89-4ac8-9830-80f80feae898",
   "metadata": {
    "scrolled": true
   },
   "outputs": [
    {
     "data": {
      "text/html": [
       "\n",
       "            <style>\n",
       "                .geemap-dark {\n",
       "                    --jp-widgets-color: white;\n",
       "                    --jp-widgets-label-color: white;\n",
       "                    --jp-ui-font-color1: white;\n",
       "                    --jp-layout-color2: #454545;\n",
       "                    background-color: #383838;\n",
       "                }\n",
       "\n",
       "                .geemap-dark .jupyter-button {\n",
       "                    --jp-layout-color3: #383838;\n",
       "                }\n",
       "\n",
       "                .geemap-colab {\n",
       "                    background-color: var(--colab-primary-surface-color, white);\n",
       "                }\n",
       "\n",
       "                .geemap-colab .jupyter-button {\n",
       "                    --jp-layout-color3: var(--colab-primary-surface-color, white);\n",
       "                }\n",
       "            </style>\n",
       "            "
      ],
      "text/plain": [
       "<IPython.core.display.HTML object>"
      ]
     },
     "metadata": {},
     "output_type": "display_data"
    },
    {
     "data": {
      "text/html": [
       "<div>\n",
       "<style scoped>\n",
       "    .dataframe tbody tr th:only-of-type {\n",
       "        vertical-align: middle;\n",
       "    }\n",
       "\n",
       "    .dataframe tbody tr th {\n",
       "        vertical-align: top;\n",
       "    }\n",
       "\n",
       "    .dataframe thead th {\n",
       "        text-align: right;\n",
       "    }\n",
       "</style>\n",
       "<table border=\"1\" class=\"dataframe\">\n",
       "  <thead>\n",
       "    <tr style=\"text-align: right;\">\n",
       "      <th></th>\n",
       "      <th>Name</th>\n",
       "      <th>link</th>\n",
       "      <th>capital</th>\n",
       "      <th>size</th>\n",
       "      <th>text</th>\n",
       "      <th>articleLength</th>\n",
       "      <th>geometry</th>\n",
       "    </tr>\n",
       "  </thead>\n",
       "  <tbody>\n",
       "    <tr>\n",
       "      <th>0</th>\n",
       "      <td>Aaminiut</td>\n",
       "      <td>https://pathfinderwiki.com/wiki/Aaminiut</td>\n",
       "      <td>False</td>\n",
       "      <td>2</td>\n",
       "      <td>&lt;p&gt;&lt;b&gt;Aaminiut&lt;/b&gt; is the largest town in the ...</td>\n",
       "      <td>700</td>\n",
       "      <td>POINT (-43.3315 67.15341)</td>\n",
       "    </tr>\n",
       "    <tr>\n",
       "      <th>1</th>\n",
       "      <td>Aaramor</td>\n",
       "      <td>https://pathfinderwiki.com/wiki/Aaramor</td>\n",
       "      <td>False</td>\n",
       "      <td>2</td>\n",
       "      <td>&lt;p&gt;The city-fortress of &lt;b&gt;Aaramor&lt;/b&gt; is loca...</td>\n",
       "      <td>1400</td>\n",
       "      <td>POINT (-5.35496 51.01807)</td>\n",
       "    </tr>\n",
       "    <tr>\n",
       "      <th>2</th>\n",
       "      <td>Abberton</td>\n",
       "      <td>https://pathfinderwiki.com/wiki/Abberton</td>\n",
       "      <td>False</td>\n",
       "      <td>3</td>\n",
       "      <td>&lt;p&gt;&lt;b&gt;Abberton&lt;/b&gt; is a small, declining town ...</td>\n",
       "      <td>600</td>\n",
       "      <td>POINT (-0.55697 32.20194)</td>\n",
       "    </tr>\n",
       "    <tr>\n",
       "      <th>3</th>\n",
       "      <td>Abken</td>\n",
       "      <td>https://pathfinderwiki.com/wiki/Abken</td>\n",
       "      <td>False</td>\n",
       "      <td>2</td>\n",
       "      <td>&lt;p&gt;One of the newest settlements in &lt;a href=\"h...</td>\n",
       "      <td>1600</td>\n",
       "      <td>POINT (-20.54576 44.95886)</td>\n",
       "    </tr>\n",
       "    <tr>\n",
       "      <th>4</th>\n",
       "      <td>Absalom</td>\n",
       "      <td>https://pathfinderwiki.com/wiki/Absalom</td>\n",
       "      <td>True</td>\n",
       "      <td>0</td>\n",
       "      <td>&lt;p&gt;For more than 4,000 years, &lt;b&gt;Absalom&lt;/b&gt; (...</td>\n",
       "      <td>14500</td>\n",
       "      <td>POINT (-0.23431 30.88863)</td>\n",
       "    </tr>\n",
       "    <tr>\n",
       "      <th>...</th>\n",
       "      <td>...</td>\n",
       "      <td>...</td>\n",
       "      <td>...</td>\n",
       "      <td>...</td>\n",
       "      <td>...</td>\n",
       "      <td>...</td>\n",
       "      <td>...</td>\n",
       "    </tr>\n",
       "    <tr>\n",
       "      <th>846</th>\n",
       "      <td>Zimar</td>\n",
       "      <td>https://pathfinderwiki.com/wiki/Zimar</td>\n",
       "      <td>False</td>\n",
       "      <td>1</td>\n",
       "      <td>&lt;p&gt;One of the main defensive &lt;a href=\"https://...</td>\n",
       "      <td>2300</td>\n",
       "      <td>POINT (6.7078 31.58416)</td>\n",
       "    </tr>\n",
       "    <tr>\n",
       "      <th>847</th>\n",
       "      <td>Ziplatna</td>\n",
       "      <td>https://pathfinderwiki.com/wiki/Ziplatna</td>\n",
       "      <td>False</td>\n",
       "      <td>1</td>\n",
       "      <td>&lt;p&gt;&lt;b&gt;Ziplatna&lt;/b&gt; is the northernmost of the ...</td>\n",
       "      <td>300</td>\n",
       "      <td>POINT (-99.19609 14.74814)</td>\n",
       "    </tr>\n",
       "    <tr>\n",
       "      <th>848</th>\n",
       "      <td>Zlatomesto</td>\n",
       "      <td>https://pathfinderwiki.com/wiki/Zlatomesto</td>\n",
       "      <td>False</td>\n",
       "      <td>2</td>\n",
       "      <td>&lt;p&gt;&lt;b&gt;Zlatomesto&lt;/b&gt; is a small town in &lt;a hre...</td>\n",
       "      <td>900</td>\n",
       "      <td>POINT (-24.7329 51.73437)</td>\n",
       "    </tr>\n",
       "    <tr>\n",
       "      <th>849</th>\n",
       "      <td>Zom Kullan</td>\n",
       "      <td>https://pathfinderwiki.com/wiki/Zom_Kullan</td>\n",
       "      <td>True</td>\n",
       "      <td>0</td>\n",
       "      <td>&lt;p&gt;&lt;b&gt;Zom Kullan&lt;/b&gt;, the capital city of &lt;a h...</td>\n",
       "      <td>400</td>\n",
       "      <td>POINT (153.268 2.37258)</td>\n",
       "    </tr>\n",
       "    <tr>\n",
       "      <th>850</th>\n",
       "      <td>Ñarula</td>\n",
       "      <td>https://pathfinderwiki.com/wiki/Ñarula</td>\n",
       "      <td>False</td>\n",
       "      <td>3</td>\n",
       "      <td>&lt;p&gt;&lt;b&gt;Ñarula&lt;/b&gt; is a city in the south-west o...</td>\n",
       "      <td>700</td>\n",
       "      <td>POINT (-101.9607 12.62034)</td>\n",
       "    </tr>\n",
       "  </tbody>\n",
       "</table>\n",
       "<p>851 rows × 7 columns</p>\n",
       "</div>"
      ],
      "text/plain": [
       "           Name                                        link  capital  size  \\\n",
       "0      Aaminiut    https://pathfinderwiki.com/wiki/Aaminiut    False     2   \n",
       "1       Aaramor     https://pathfinderwiki.com/wiki/Aaramor    False     2   \n",
       "2      Abberton    https://pathfinderwiki.com/wiki/Abberton    False     3   \n",
       "3         Abken       https://pathfinderwiki.com/wiki/Abken    False     2   \n",
       "4       Absalom     https://pathfinderwiki.com/wiki/Absalom     True     0   \n",
       "..          ...                                         ...      ...   ...   \n",
       "846       Zimar       https://pathfinderwiki.com/wiki/Zimar    False     1   \n",
       "847    Ziplatna    https://pathfinderwiki.com/wiki/Ziplatna    False     1   \n",
       "848  Zlatomesto  https://pathfinderwiki.com/wiki/Zlatomesto    False     2   \n",
       "849  Zom Kullan  https://pathfinderwiki.com/wiki/Zom_Kullan     True     0   \n",
       "850      Ñarula      https://pathfinderwiki.com/wiki/Ñarula    False     3   \n",
       "\n",
       "                                                  text  articleLength  \\\n",
       "0    <p><b>Aaminiut</b> is the largest town in the ...            700   \n",
       "1    <p>The city-fortress of <b>Aaramor</b> is loca...           1400   \n",
       "2    <p><b>Abberton</b> is a small, declining town ...            600   \n",
       "3    <p>One of the newest settlements in <a href=\"h...           1600   \n",
       "4    <p>For more than 4,000 years, <b>Absalom</b> (...          14500   \n",
       "..                                                 ...            ...   \n",
       "846  <p>One of the main defensive <a href=\"https://...           2300   \n",
       "847  <p><b>Ziplatna</b> is the northernmost of the ...            300   \n",
       "848  <p><b>Zlatomesto</b> is a small town in <a hre...            900   \n",
       "849  <p><b>Zom Kullan</b>, the capital city of <a h...            400   \n",
       "850  <p><b>Ñarula</b> is a city in the south-west o...            700   \n",
       "\n",
       "                       geometry  \n",
       "0     POINT (-43.3315 67.15341)  \n",
       "1     POINT (-5.35496 51.01807)  \n",
       "2     POINT (-0.55697 32.20194)  \n",
       "3    POINT (-20.54576 44.95886)  \n",
       "4     POINT (-0.23431 30.88863)  \n",
       "..                          ...  \n",
       "846     POINT (6.7078 31.58416)  \n",
       "847  POINT (-99.19609 14.74814)  \n",
       "848   POINT (-24.7329 51.73437)  \n",
       "849     POINT (153.268 2.37258)  \n",
       "850  POINT (-101.9607 12.62034)  \n",
       "\n",
       "[851 rows x 7 columns]"
      ]
     },
     "execution_count": 2,
     "metadata": {},
     "output_type": "execute_result"
    }
   ],
   "source": [
    "path = source_loc\n",
    "\n",
    "cities = gpd.read_file(path + 'cities.geojson')\n",
    "\n",
    "cities"
   ]
  },
  {
   "cell_type": "markdown",
   "id": "8d674426-4e31-4dfd-b0d0-9c8dca03a9e9",
   "metadata": {},
   "source": [
    "### Check Age"
   ]
  },
  {
   "cell_type": "markdown",
   "id": "134bf72e-4f02-43e0-b6d3-7e213f3fdd41",
   "metadata": {},
   "source": [
    "Here, we check when we last ran this script. More specifically, we look for a copy of the file this script creates, and check its timestamp. If enough time has passed, or the file doesn't exist, then we run the code.\n",
    "\n",
    "This is important for two reasons. First, this script takes some--though, not a lot of--time to run. Second, and more importantly, web-scraping is disruptive to wiki servers, and should be as light in load as possible. This process minimizes how much web scraping is done."
   ]
  },
  {
   "cell_type": "code",
   "execution_count": 3,
   "id": "5e5e4a5e-dd17-4cd0-98fe-104e5045848a",
   "metadata": {},
   "outputs": [
    {
     "data": {
      "text/html": [
       "\n",
       "            <style>\n",
       "                .geemap-dark {\n",
       "                    --jp-widgets-color: white;\n",
       "                    --jp-widgets-label-color: white;\n",
       "                    --jp-ui-font-color1: white;\n",
       "                    --jp-layout-color2: #454545;\n",
       "                    background-color: #383838;\n",
       "                }\n",
       "\n",
       "                .geemap-dark .jupyter-button {\n",
       "                    --jp-layout-color3: #383838;\n",
       "                }\n",
       "\n",
       "                .geemap-colab {\n",
       "                    background-color: var(--colab-primary-surface-color, white);\n",
       "                }\n",
       "\n",
       "                .geemap-colab .jupyter-button {\n",
       "                    --jp-layout-color3: var(--colab-primary-surface-color, white);\n",
       "                }\n",
       "            </style>\n",
       "            "
      ],
      "text/plain": [
       "<IPython.core.display.HTML object>"
      ]
     },
     "metadata": {},
     "output_type": "display_data"
    }
   ],
   "source": [
    "max_age = 7 # Days"
   ]
  },
  {
   "cell_type": "code",
   "execution_count": 4,
   "id": "5babcb29-77da-4b7d-948a-a8b8b0537673",
   "metadata": {},
   "outputs": [
    {
     "data": {
      "text/html": [
       "\n",
       "            <style>\n",
       "                .geemap-dark {\n",
       "                    --jp-widgets-color: white;\n",
       "                    --jp-widgets-label-color: white;\n",
       "                    --jp-ui-font-color1: white;\n",
       "                    --jp-layout-color2: #454545;\n",
       "                    background-color: #383838;\n",
       "                }\n",
       "\n",
       "                .geemap-dark .jupyter-button {\n",
       "                    --jp-layout-color3: #383838;\n",
       "                }\n",
       "\n",
       "                .geemap-colab {\n",
       "                    background-color: var(--colab-primary-surface-color, white);\n",
       "                }\n",
       "\n",
       "                .geemap-colab .jupyter-button {\n",
       "                    --jp-layout-color3: var(--colab-primary-surface-color, white);\n",
       "                }\n",
       "            </style>\n",
       "            "
      ],
      "text/plain": [
       "<IPython.core.display.HTML object>"
      ]
     },
     "metadata": {},
     "output_type": "display_data"
    },
    {
     "name": "stdout",
     "output_type": "stream",
     "text": [
      "City info not found. Regenerating new copy.\n",
      "ERROR MESSAGE: [Errno 2] No such file or directory: 'D:/0Coding Projects/GitHub/My Repositories/Pathfinder Mapping/Data/Cleaned_Data/City Info/city_info.txt'\n",
      "Regenerate Cities: True\n"
     ]
    }
   ],
   "source": [
    "path = clean_loc\n",
    "\n",
    "try:\n",
    "\n",
    "    with open(path + 'city_info.txt') as file:\n",
    "      output_old = file.read()\n",
    "    \n",
    "    \n",
    "    output_old = json.loads(output_old)\n",
    "\n",
    "    # Now check how much time has elapsed\n",
    "    last_generated = output_old['timestamp']\n",
    "    last_generated = datetime.datetime.fromisoformat(last_generated)\n",
    "\n",
    "    time_elapsed = datetime.datetime.today() - last_generated\n",
    "    days_elapsed = time_elapsed.days\n",
    "\n",
    "    print(f\"Days since last generation: {days_elapsed}\")\n",
    "\n",
    "    # Assign flag\n",
    "    if days_elapsed >= max_age:\n",
    "        \n",
    "        regenerate_city_info = True\n",
    "\n",
    "    else:\n",
    "\n",
    "        regenerate_city_info = False\n",
    "\n",
    "        # Rename the object, so it can be called in the future\n",
    "\n",
    "        cities_info = output_old\n",
    "\n",
    "except Exception as error:\n",
    "\n",
    "    print(\"City info not found. Regenerating new copy. Error printed below:\")\n",
    "    print(f\"ERROR MESSAGE: {error}\")\n",
    "    \n",
    "    regenerate_city_info = True\n",
    "\n",
    "print(f\"Regenerate Cities: {regenerate_city_info}\")"
   ]
  },
  {
   "cell_type": "markdown",
   "id": "bf1a8ebc-7679-4040-9f1f-22aa152e4516",
   "metadata": {},
   "source": [
    "### Establish API"
   ]
  },
  {
   "cell_type": "markdown",
   "id": "f78d174f-49e1-419f-8336-b8f8e240d1fd",
   "metadata": {},
   "source": [
    "While we *could* collect all the data we need rather easily by web-scraping with BeautifulSoup, that would be very rude. It would be a drastic spike in traffic on the wiki, potentially harming the experience of other users, and risking an IP ban from moderators. So instead, we'll use the MediaWiki API to gather data in a non-strenuous way."
   ]
  },
  {
   "cell_type": "code",
   "execution_count": 5,
   "id": "2866fabb-f995-49bf-9e46-848e4919fdd2",
   "metadata": {},
   "outputs": [
    {
     "data": {
      "text/html": [
       "\n",
       "            <style>\n",
       "                .geemap-dark {\n",
       "                    --jp-widgets-color: white;\n",
       "                    --jp-widgets-label-color: white;\n",
       "                    --jp-ui-font-color1: white;\n",
       "                    --jp-layout-color2: #454545;\n",
       "                    background-color: #383838;\n",
       "                }\n",
       "\n",
       "                .geemap-dark .jupyter-button {\n",
       "                    --jp-layout-color3: #383838;\n",
       "                }\n",
       "\n",
       "                .geemap-colab {\n",
       "                    background-color: var(--colab-primary-surface-color, white);\n",
       "                }\n",
       "\n",
       "                .geemap-colab .jupyter-button {\n",
       "                    --jp-layout-color3: var(--colab-primary-surface-color, white);\n",
       "                }\n",
       "            </style>\n",
       "            "
      ],
      "text/plain": [
       "<IPython.core.display.HTML object>"
      ]
     },
     "metadata": {},
     "output_type": "display_data"
    }
   ],
   "source": [
    "# Establish session\n",
    "session = req.Session()\n",
    "\n",
    "# Wikimedia API url\n",
    "api_url = 'https://pathfinderwiki.com/w/api.php'"
   ]
  },
  {
   "cell_type": "markdown",
   "id": "ec45b3d1-96e7-4d54-b04b-9326bb8e6537",
   "metadata": {},
   "source": [
    "# Web Scraping"
   ]
  },
  {
   "cell_type": "markdown",
   "id": "b72dc547-2327-4b3f-9ce6-2bd8421366ef",
   "metadata": {},
   "source": [
    "Typically, web scraping is very straightforward in Python: using BeautifulSoup, you parse a bunch of webistes using their URLs. But that has two issues here:\n",
    "\n",
    "1) It's inefficient. This script runs through *hundreds* of Pathfinder Wiki pages, so the usual method takes multiple minutes to run.\n",
    "\n",
    "2) It's rude. The Pathfinder Wiki folks do not like web scrapers, as it strains their servers.\n",
    "\n",
    "So instead, for the benefit of this code and to respect the wishes of the Pathfinder Wiki operators, we will instead use the MediaWiki API for parsing. BeautifulSoup will still be used for sorting through the HTML code, of course."
   ]
  },
  {
   "cell_type": "markdown",
   "id": "c8bb6bbe-530d-4c34-be0f-67f86bf4ef0d",
   "metadata": {},
   "source": [
    "Useful links on MediaWiki API:\n",
    "\n",
    "1) Use the MediaWiki API: https://www.mediawiki.org/wiki/API:Main_page\n",
    "\n",
    "2) Follow their etiquitte rules: https://www.mediawiki.org/wiki/API:Etiquette\n",
    "\n",
    "3) Use a header: https://foundation.wikimedia.org/wiki/Policy:User-Agent_policy"
   ]
  },
  {
   "cell_type": "markdown",
   "id": "75d81184-afbb-4c83-b599-034af8c1f889",
   "metadata": {},
   "source": [
    "### Create Header"
   ]
  },
  {
   "cell_type": "markdown",
   "id": "e34e8c36-fd39-4ff6-9c30-f633c6ed69a5",
   "metadata": {},
   "source": [
    "This is effectively the script's ID, so the Pathfinder Wiki operators may know who is causing traffic. This is useful so that, in case this code isn't working right and making their lives harder, they know to contact the code's operator rather than outright banning them."
   ]
  },
  {
   "cell_type": "code",
   "execution_count": 6,
   "id": "4db7e6dc-2f99-4b45-bf2d-4e3752a10a1b",
   "metadata": {},
   "outputs": [
    {
     "data": {
      "text/html": [
       "\n",
       "            <style>\n",
       "                .geemap-dark {\n",
       "                    --jp-widgets-color: white;\n",
       "                    --jp-widgets-label-color: white;\n",
       "                    --jp-ui-font-color1: white;\n",
       "                    --jp-layout-color2: #454545;\n",
       "                    background-color: #383838;\n",
       "                }\n",
       "\n",
       "                .geemap-dark .jupyter-button {\n",
       "                    --jp-layout-color3: #383838;\n",
       "                }\n",
       "\n",
       "                .geemap-colab {\n",
       "                    background-color: var(--colab-primary-surface-color, white);\n",
       "                }\n",
       "\n",
       "                .geemap-colab .jupyter-button {\n",
       "                    --jp-layout-color3: var(--colab-primary-surface-color, white);\n",
       "                }\n",
       "            </style>\n",
       "            "
      ],
      "text/plain": [
       "<IPython.core.display.HTML object>"
      ]
     },
     "metadata": {},
     "output_type": "display_data"
    }
   ],
   "source": [
    "headers = {\n",
    "    'User-Agent': \"Boost's Webscraper Script (Discord: _boost, Pathfinder Wiki Server)\"\n",
    "}"
   ]
  },
  {
   "cell_type": "markdown",
   "id": "1b9c6473-4df7-4ecf-bae7-03b2399e4a80",
   "metadata": {},
   "source": [
    "### API Request"
   ]
  },
  {
   "cell_type": "markdown",
   "id": "54ef74ad-754e-4b33-94c9-f6a5f4d2404d",
   "metadata": {},
   "source": [
    "So we'll still use BeautifulSoup for sorting through HTML code, but we'll use the API beforehand to pull and parse the data."
   ]
  },
  {
   "cell_type": "code",
   "execution_count": 7,
   "id": "66f6b146-462e-4423-a74b-bc44834e119d",
   "metadata": {},
   "outputs": [
    {
     "data": {
      "text/html": [
       "\n",
       "            <style>\n",
       "                .geemap-dark {\n",
       "                    --jp-widgets-color: white;\n",
       "                    --jp-widgets-label-color: white;\n",
       "                    --jp-ui-font-color1: white;\n",
       "                    --jp-layout-color2: #454545;\n",
       "                    background-color: #383838;\n",
       "                }\n",
       "\n",
       "                .geemap-dark .jupyter-button {\n",
       "                    --jp-layout-color3: #383838;\n",
       "                }\n",
       "\n",
       "                .geemap-colab {\n",
       "                    background-color: var(--colab-primary-surface-color, white);\n",
       "                }\n",
       "\n",
       "                .geemap-colab .jupyter-button {\n",
       "                    --jp-layout-color3: var(--colab-primary-surface-color, white);\n",
       "                }\n",
       "            </style>\n",
       "            "
      ],
      "text/plain": [
       "<IPython.core.display.HTML object>"
      ]
     },
     "metadata": {},
     "output_type": "display_data"
    }
   ],
   "source": [
    "def api_request(page_name):\n",
    "\n",
    "    global api_url\n",
    "    global session\n",
    "    global headers\n",
    "\n",
    "    # First, parse through to find every section in the page\n",
    "    PARAMS = {\n",
    "        'action': 'parse',\n",
    "        'page': page_name,\n",
    "        'format': 'json'\n",
    "    }\n",
    "    \n",
    "    page = session.get(url=api_url, params=PARAMS, headers = headers)\n",
    "    page = page.json()\n",
    "\n",
    "    page_text = page['parse']['text']['*']\n",
    "\n",
    "    return page_text"
   ]
  },
  {
   "cell_type": "markdown",
   "id": "b86dede4-d0ee-45d6-883a-31f53a3e8009",
   "metadata": {},
   "source": [
    "### Web Scrape"
   ]
  },
  {
   "cell_type": "code",
   "execution_count": 8,
   "id": "41a40801-cb21-48a4-bb95-9e4e8b0ece49",
   "metadata": {},
   "outputs": [
    {
     "data": {
      "text/html": [
       "\n",
       "            <style>\n",
       "                .geemap-dark {\n",
       "                    --jp-widgets-color: white;\n",
       "                    --jp-widgets-label-color: white;\n",
       "                    --jp-ui-font-color1: white;\n",
       "                    --jp-layout-color2: #454545;\n",
       "                    background-color: #383838;\n",
       "                }\n",
       "\n",
       "                .geemap-dark .jupyter-button {\n",
       "                    --jp-layout-color3: #383838;\n",
       "                }\n",
       "\n",
       "                .geemap-colab {\n",
       "                    background-color: var(--colab-primary-surface-color, white);\n",
       "                }\n",
       "\n",
       "                .geemap-colab .jupyter-button {\n",
       "                    --jp-layout-color3: var(--colab-primary-surface-color, white);\n",
       "                }\n",
       "            </style>\n",
       "            "
      ],
      "text/plain": [
       "<IPython.core.display.HTML object>"
      ]
     },
     "metadata": {},
     "output_type": "display_data"
    }
   ],
   "source": [
    "def scrape_data(page_name):\n",
    "    \n",
    "    page_text = api_request(page_name)\n",
    "    \n",
    "    soup = BeautifulSoup(page_text, 'html.parser')\n",
    "\n",
    "    # Lists\n",
    "    data_dict = dict()\n",
    "\n",
    "    # Keys make up the name column of the dataframe\n",
    "    keys = soup.find_all(\"div\",{'class': 'key'})\n",
    "\n",
    "    for key in keys:\n",
    "\n",
    "        # NOTE: some keys have data which is actually multi-column, but that can be cleaned in Pandas\n",
    "\n",
    "        elements = key.find_next()\n",
    "\n",
    "        # Append\n",
    "        data_dict[key.text] = elements.text \n",
    "\n",
    "    return data_dict"
   ]
  },
  {
   "cell_type": "code",
   "execution_count": null,
   "id": "c9d3bb67-391c-4008-ba0e-b4834f491f5d",
   "metadata": {},
   "outputs": [
    {
     "data": {
      "text/html": [
       "\n",
       "            <style>\n",
       "                .geemap-dark {\n",
       "                    --jp-widgets-color: white;\n",
       "                    --jp-widgets-label-color: white;\n",
       "                    --jp-ui-font-color1: white;\n",
       "                    --jp-layout-color2: #454545;\n",
       "                    background-color: #383838;\n",
       "                }\n",
       "\n",
       "                .geemap-dark .jupyter-button {\n",
       "                    --jp-layout-color3: #383838;\n",
       "                }\n",
       "\n",
       "                .geemap-colab {\n",
       "                    background-color: var(--colab-primary-surface-color, white);\n",
       "                }\n",
       "\n",
       "                .geemap-colab .jupyter-button {\n",
       "                    --jp-layout-color3: var(--colab-primary-surface-color, white);\n",
       "                }\n",
       "            </style>\n",
       "            "
      ],
      "text/plain": [
       "<IPython.core.display.HTML object>"
      ]
     },
     "metadata": {},
     "output_type": "display_data"
    }
   ],
   "source": [
    "# Relational dictionary containing the data\n",
    "\n",
    "if regenerate_city_info == True:\n",
    "\n",
    "    city_demos = dict()\n",
    "    \n",
    "    # Construct list of cities that have pages\n",
    "    na_link = 'https://pathfinderwiki.com/wiki/PathfinderWiki:Map_Locations_Without_Articles'\n",
    "    city_list = cities.copy()\n",
    "    city_list = city_list.loc[city_list['link'] != na_link]\n",
    "    city_list = city_list['Name'].to_list()\n",
    "    \n",
    "    for city in city_list:\n",
    "    \n",
    "        try:\n",
    "    \n",
    "            city_demos[city] = scrape_data(city)\n",
    "    \n",
    "        except:\n",
    "    \n",
    "            city_demos[city] = 'ERROR' # Some errors are not really solvable, and are not worth looking into"
   ]
  },
  {
   "cell_type": "markdown",
   "id": "ae81d74f-d4f4-48c6-9a0e-c1a45bde14a3",
   "metadata": {},
   "source": [
    "### Timestamp"
   ]
  },
  {
   "cell_type": "markdown",
   "id": "d46cad25-3476-4926-96b4-0499eae02ba2",
   "metadata": {},
   "source": [
    "This creates a new layer to the dictionary, so a timestamp can be added. This timestamp will be useful for assessing whether or not to rerun the script. The script takes some time to run, so we'll instead save the data and refresh it if the file is old enough."
   ]
  },
  {
   "cell_type": "code",
   "execution_count": null,
   "id": "96fe19b7-ca1a-438a-8069-0fd813369149",
   "metadata": {},
   "outputs": [],
   "source": [
    "if regenerate_city_info == True:\n",
    "\n",
    "    today = datetime.datetime.now()\n",
    "    \n",
    "    today = str(today)\n",
    "    \n",
    "    today"
   ]
  },
  {
   "cell_type": "code",
   "execution_count": null,
   "id": "a113705f-ccce-4ca2-8e40-55117059431f",
   "metadata": {},
   "outputs": [],
   "source": [
    "if regenerate_city_info == True:\n",
    "\n",
    "    cities_info = {\n",
    "        'data': city_demos,\n",
    "        'timestamp': today\n",
    "    }"
   ]
  },
  {
   "cell_type": "markdown",
   "id": "4512e2a7-0b4a-4073-a33c-85928bc05931",
   "metadata": {},
   "source": [
    "# Export"
   ]
  },
  {
   "cell_type": "code",
   "execution_count": null,
   "id": "568ff2cb-8d33-41c6-ad8d-779e4ce711f3",
   "metadata": {},
   "outputs": [],
   "source": [
    "if regenerate_city_info == True:\n",
    "\n",
    "    path = clean_loc\n",
    "    \n",
    "    with open(path + 'city_info.txt', 'w') as f:\n",
    "      json.dump(cities_info, f)"
   ]
  },
  {
   "cell_type": "markdown",
   "id": "9c5f3089-47db-472b-bde8-a74e713caa91",
   "metadata": {},
   "source": [
    "# Run Message"
   ]
  },
  {
   "cell_type": "markdown",
   "id": "5b7e9594-e425-48ca-83e3-2b9317bafe41",
   "metadata": {},
   "source": [
    "This is to show key info when this script is run in another script."
   ]
  },
  {
   "cell_type": "code",
   "execution_count": null,
   "id": "35c23356-4353-48aa-9648-64bc3f2967f3",
   "metadata": {},
   "outputs": [],
   "source": [
    "print(\"City Scraping Script has been run successfully!\")"
   ]
  }
 ],
 "metadata": {
  "kernelspec": {
   "display_name": "Python 3 (ipykernel)",
   "language": "python",
   "name": "python3"
  },
  "language_info": {
   "codemirror_mode": {
    "name": "ipython",
    "version": 3
   },
   "file_extension": ".py",
   "mimetype": "text/x-python",
   "name": "python",
   "nbconvert_exporter": "python",
   "pygments_lexer": "ipython3",
   "version": "3.12.5"
  }
 },
 "nbformat": 4,
 "nbformat_minor": 5
}
