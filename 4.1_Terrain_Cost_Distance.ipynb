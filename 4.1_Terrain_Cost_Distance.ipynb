{
 "cells": [
  {
   "cell_type": "markdown",
   "id": "6d2ef051-5064-4059-a6be-ec6222b5d044",
   "metadata": {},
   "source": [
    "# Setup"
   ]
  },
  {
   "cell_type": "markdown",
   "id": "0e6c27c3-b4c3-4e83-9afb-0b0cd5f36a49",
   "metadata": {},
   "source": [
    "### Run Previous Scripts"
   ]
  },
  {
   "cell_type": "code",
   "execution_count": 1,
   "id": "cc381d0d-14fd-4509-ab32-f6aa353c7c72",
   "metadata": {},
   "outputs": [
    {
     "name": "stdout",
     "output_type": "stream",
     "text": [
      "Master Script has been run successfully!\n",
      "Cleaning Layers Script has been run successfully!\n",
      "Chosen Study Area: Stolen Lands\n",
      "Days since last generation: 0\n",
      "Regenerate Cities: False\n",
      "City Scraping Script has been run successfully!\n",
      "RESULT: From 851 cities, 835 were removed, leaving just 16.\n",
      "RESULT: From 16 cities, 2 were removed, leaving just 14.\n",
      "City Cleaning Script has been run successfully!\n"
     ]
    }
   ],
   "source": [
    "%run ./1_Master_Script.ipynb\n",
    "%run ./2_Cleaning_Layers.ipynb\n",
    "%run ./3.1_City_Scraping.ipynb\n",
    "%run ./3.2_City_Cleaning.ipynb"
   ]
  },
  {
   "cell_type": "markdown",
   "id": "41517115-6428-4452-98e9-f80d15590da4",
   "metadata": {},
   "source": [
    "#### Raster Layers"
   ]
  },
  {
   "cell_type": "markdown",
   "id": "2cbda60b-0749-4a21-b3df-7ece59a8f749",
   "metadata": {},
   "source": [
    "What supply costs should each layer have? That's the purpose of this dictionary."
   ]
  },
  {
   "cell_type": "markdown",
   "id": "89c2aa63-0a0a-4ce7-a148-fcde52f06407",
   "metadata": {},
   "source": [
    "The layers are divided into separate dictionaries, which will then be combined in a list. This is for organizational purposes, as I plan to add many more layers."
   ]
  },
  {
   "cell_type": "markdown",
   "id": "edea892a-c4e9-4cc7-8a86-ef1eabd15aa7",
   "metadata": {},
   "source": [
    "The point of comparison is a cost of 1. It costs one unit of supplies to traverse ordinary plains. Each additional layer is additive, increasing the cost by a fixed amount.\n",
    "\n",
    "In the future, more terrain layers may be added. For example, making thin slivers of coastline (aside from coastlines adjacent to cities) difficult to traverse, but the sea past that much easier than land to traverse, so that sea routes are encouraged across long distances."
   ]
  },
  {
   "cell_type": "code",
   "execution_count": 2,
   "id": "41e36001-a1fe-4b6a-a678-711fb82607c6",
   "metadata": {},
   "outputs": [
    {
     "data": {
      "text/html": [
       "\n",
       "            <style>\n",
       "                .geemap-dark {\n",
       "                    --jp-widgets-color: white;\n",
       "                    --jp-widgets-label-color: white;\n",
       "                    --jp-ui-font-color1: white;\n",
       "                    --jp-layout-color2: #454545;\n",
       "                    background-color: #383838;\n",
       "                }\n",
       "\n",
       "                .geemap-dark .jupyter-button {\n",
       "                    --jp-layout-color3: #383838;\n",
       "                }\n",
       "\n",
       "                .geemap-colab {\n",
       "                    background-color: var(--colab-primary-surface-color, white);\n",
       "                }\n",
       "\n",
       "                .geemap-colab .jupyter-button {\n",
       "                    --jp-layout-color3: var(--colab-primary-surface-color, white);\n",
       "                }\n",
       "            </style>\n",
       "            "
      ],
      "text/plain": [
       "<IPython.core.display.HTML object>"
      ]
     },
     "metadata": {},
     "output_type": "display_data"
    }
   ],
   "source": [
    "terrain_layers = {\n",
    "   'deserts': {\n",
    "       'data': final_dict['deserts'],\n",
    "       'cost': 1,\n",
    "       'color': 'brown'\n",
    "    },\n",
    "    'forests': {\n",
    "        'data': final_dict['forests'],\n",
    "        'cost': 1,\n",
    "        'color': 'green'\n",
    "    },\n",
    "    'hills': {\n",
    "        'data': final_dict['hills'],\n",
    "        'cost': 1,\n",
    "        'color': 'darkgreen'\n",
    "    },\n",
    "    'ice': { # These are glaciers\n",
    "        'data': final_dict['ice'],\n",
    "        'cost': 1,\n",
    "        'color': 'white'\n",
    "    },\n",
    "    'borders': { # Borders, ironically, lines up with land better than land!\n",
    "        'data': final_dict['borders'],\n",
    "        'cost': 1,\n",
    "        'color': 'yellow'\n",
    "    },\n",
    "    'mountains': {\n",
    "        'data': final_dict['mountains'],\n",
    "        'cost': 1,\n",
    "        'color': 'red'\n",
    "    },\n",
    "    'rivers': {\n",
    "        'data': final_dict['rivers'],\n",
    "        'cost': 5, # To make it not easy to cross, requiring a bridge\n",
    "        'color': 'blue'\n",
    "    },\n",
    "    'swamps': {\n",
    "        'data': final_dict['swamps'],\n",
    "        'cost': 1,\n",
    "        'color': 'darkblue'\n",
    "    },\n",
    "    'waters': {\n",
    "        'data': final_dict['waters'],\n",
    "        # IDEA: create coastline geometry and assign that a high weight, but then make all other waters low weight.\n",
    "        # This is to account for the startup cost of sailing, and how once you've departed you can go a long distance\n",
    "        'cost': 10,\n",
    "        'color': 'lightblue'\n",
    "    }\n",
    "}"
   ]
  },
  {
   "cell_type": "markdown",
   "id": "3b1fbaba-cb50-4468-b362-f11c03ad426f",
   "metadata": {},
   "source": [
    "### Cleaned Cities"
   ]
  },
  {
   "cell_type": "code",
   "execution_count": 3,
   "id": "15be1125-723b-4343-8413-4d10e0302ae8",
   "metadata": {},
   "outputs": [
    {
     "data": {
      "text/html": [
       "\n",
       "            <style>\n",
       "                .geemap-dark {\n",
       "                    --jp-widgets-color: white;\n",
       "                    --jp-widgets-label-color: white;\n",
       "                    --jp-ui-font-color1: white;\n",
       "                    --jp-layout-color2: #454545;\n",
       "                    background-color: #383838;\n",
       "                }\n",
       "\n",
       "                .geemap-dark .jupyter-button {\n",
       "                    --jp-layout-color3: #383838;\n",
       "                }\n",
       "\n",
       "                .geemap-colab {\n",
       "                    background-color: var(--colab-primary-surface-color, white);\n",
       "                }\n",
       "\n",
       "                .geemap-colab .jupyter-button {\n",
       "                    --jp-layout-color3: var(--colab-primary-surface-color, white);\n",
       "                }\n",
       "            </style>\n",
       "            "
      ],
      "text/plain": [
       "<IPython.core.display.HTML object>"
      ]
     },
     "metadata": {},
     "output_type": "display_data"
    },
    {
     "data": {
      "text/html": [
       "<div>\n",
       "<style scoped>\n",
       "    .dataframe tbody tr th:only-of-type {\n",
       "        vertical-align: middle;\n",
       "    }\n",
       "\n",
       "    .dataframe tbody tr th {\n",
       "        vertical-align: top;\n",
       "    }\n",
       "\n",
       "    .dataframe thead th {\n",
       "        text-align: right;\n",
       "    }\n",
       "</style>\n",
       "<table border=\"1\" class=\"dataframe\">\n",
       "  <thead>\n",
       "    <tr style=\"text-align: right;\">\n",
       "      <th></th>\n",
       "      <th>Name</th>\n",
       "      <th>link</th>\n",
       "      <th>capital</th>\n",
       "      <th>size</th>\n",
       "      <th>text</th>\n",
       "      <th>articleLength</th>\n",
       "      <th>geometry</th>\n",
       "      <th>Nation</th>\n",
       "      <th>Population</th>\n",
       "      <th>Government</th>\n",
       "      <th>...</th>\n",
       "      <th>Region</th>\n",
       "      <th>Religions</th>\n",
       "      <th>Ruler</th>\n",
       "      <th>Languages</th>\n",
       "      <th>Capital</th>\n",
       "      <th>Titles</th>\n",
       "      <th>Demonym</th>\n",
       "      <th>Demographics</th>\n",
       "      <th>Adjective</th>\n",
       "      <th>size0</th>\n",
       "    </tr>\n",
       "  </thead>\n",
       "  <tbody>\n",
       "    <tr>\n",
       "      <th>0</th>\n",
       "      <td>Avendale</td>\n",
       "      <td>https://pathfinderwiki.com/wiki/Avendale</td>\n",
       "      <td>False</td>\n",
       "      <td>1</td>\n",
       "      <td>&lt;p&gt;&lt;b&gt;Avendale&lt;/b&gt; is the capital city of &lt;a h...</td>\n",
       "      <td>600</td>\n",
       "      <td>POINT (-529191.389 1902575.629)</td>\n",
       "      <td>River Kingdoms</td>\n",
       "      <td>11280</td>\n",
       "      <td>Military dictatorship</td>\n",
       "      <td>...</td>\n",
       "      <td>Touvette</td>\n",
       "      <td>&lt;NA&gt;</td>\n",
       "      <td>General Cabol Voran</td>\n",
       "      <td>&lt;NA&gt;</td>\n",
       "      <td>&lt;NA&gt;</td>\n",
       "      <td>&lt;NA&gt;</td>\n",
       "      <td>&lt;NA&gt;</td>\n",
       "      <td>Human 89%, halfling 9%, other 2%</td>\n",
       "      <td>&lt;NA&gt;</td>\n",
       "      <td>False</td>\n",
       "    </tr>\n",
       "    <tr>\n",
       "      <th>1</th>\n",
       "      <td>Brunderton</td>\n",
       "      <td>https://pathfinderwiki.com/wiki/Brunderton</td>\n",
       "      <td>False</td>\n",
       "      <td>2</td>\n",
       "      <td>&lt;p&gt;The mining town of &lt;b&gt;Brunderton&lt;/b&gt; in eas...</td>\n",
       "      <td>300</td>\n",
       "      <td>POINT (-4315.401 2126693.082)</td>\n",
       "      <td>Brevoy</td>\n",
       "      <td>1120</td>\n",
       "      <td>&lt;NA&gt;</td>\n",
       "      <td>...</td>\n",
       "      <td>Rostland</td>\n",
       "      <td>&lt;NA&gt;</td>\n",
       "      <td>&lt;NA&gt;</td>\n",
       "      <td>&lt;NA&gt;</td>\n",
       "      <td>&lt;NA&gt;</td>\n",
       "      <td>&lt;NA&gt;</td>\n",
       "      <td>&lt;NA&gt;</td>\n",
       "      <td>Overwhelmingly dwarf</td>\n",
       "      <td>&lt;NA&gt;</td>\n",
       "      <td>False</td>\n",
       "    </tr>\n",
       "  </tbody>\n",
       "</table>\n",
       "<p>2 rows × 25 columns</p>\n",
       "</div>"
      ],
      "text/plain": [
       "         Name                                        link  capital  size  \\\n",
       "0    Avendale    https://pathfinderwiki.com/wiki/Avendale    False     1   \n",
       "1  Brunderton  https://pathfinderwiki.com/wiki/Brunderton    False     2   \n",
       "\n",
       "                                                text  articleLength  \\\n",
       "0  <p><b>Avendale</b> is the capital city of <a h...            600   \n",
       "1  <p>The mining town of <b>Brunderton</b> in eas...            300   \n",
       "\n",
       "                          geometry          Nation Population  \\\n",
       "0  POINT (-529191.389 1902575.629)  River Kingdoms      11280   \n",
       "1    POINT (-4315.401 2126693.082)          Brevoy       1120   \n",
       "\n",
       "              Government  ...    Region Religions                Ruler  \\\n",
       "0  Military dictatorship  ...  Touvette      <NA>  General Cabol Voran   \n",
       "1                   <NA>  ...  Rostland      <NA>                 <NA>   \n",
       "\n",
       "  Languages Capital Titles Demonym                      Demographics  \\\n",
       "0      <NA>    <NA>   <NA>    <NA>  Human 89%, halfling 9%, other 2%   \n",
       "1      <NA>    <NA>   <NA>    <NA>              Overwhelmingly dwarf   \n",
       "\n",
       "  Adjective  size0  \n",
       "0      <NA>  False  \n",
       "1      <NA>  False  \n",
       "\n",
       "[2 rows x 25 columns]"
      ]
     },
     "execution_count": 3,
     "metadata": {},
     "output_type": "execute_result"
    }
   ],
   "source": [
    "final_cities.head(2)"
   ]
  },
  {
   "cell_type": "markdown",
   "id": "1dc6e65f-c178-4271-8188-2f5579e47409",
   "metadata": {},
   "source": [
    "### Interactive Map"
   ]
  },
  {
   "cell_type": "markdown",
   "id": "0067e10b-52d8-42b0-985f-458310f673cf",
   "metadata": {},
   "source": [
    "This is our equivalent to Google Maps, for finding point coordinates.\n",
    "\n",
    "https://map.pathfinderwiki.com/#location=4.69/47.4/7.93"
   ]
  },
  {
   "cell_type": "markdown",
   "id": "86091b39-1a15-4f6f-b4ea-8eff641a4e67",
   "metadata": {},
   "source": [
    "# Cost Distance Map"
   ]
  },
  {
   "cell_type": "markdown",
   "id": "060029e2-f640-444c-8c18-d2b6578349e8",
   "metadata": {},
   "source": [
    "#### Remove Empty Layers"
   ]
  },
  {
   "cell_type": "markdown",
   "id": "c05d34ed-fc13-4129-a803-7062b2dafb09",
   "metadata": {},
   "source": [
    "Some layers may have no data by this point. Let's remove them now, for future ease."
   ]
  },
  {
   "cell_type": "code",
   "execution_count": 4,
   "id": "0bea00bc-5934-49b7-8e91-27f95e0a2e0c",
   "metadata": {},
   "outputs": [
    {
     "data": {
      "text/html": [
       "\n",
       "            <style>\n",
       "                .geemap-dark {\n",
       "                    --jp-widgets-color: white;\n",
       "                    --jp-widgets-label-color: white;\n",
       "                    --jp-ui-font-color1: white;\n",
       "                    --jp-layout-color2: #454545;\n",
       "                    background-color: #383838;\n",
       "                }\n",
       "\n",
       "                .geemap-dark .jupyter-button {\n",
       "                    --jp-layout-color3: #383838;\n",
       "                }\n",
       "\n",
       "                .geemap-colab {\n",
       "                    background-color: var(--colab-primary-surface-color, white);\n",
       "                }\n",
       "\n",
       "                .geemap-colab .jupyter-button {\n",
       "                    --jp-layout-color3: var(--colab-primary-surface-color, white);\n",
       "                }\n",
       "            </style>\n",
       "            "
      ],
      "text/plain": [
       "<IPython.core.display.HTML object>"
      ]
     },
     "metadata": {},
     "output_type": "display_data"
    }
   ],
   "source": [
    "def remove_empty_layers(dictionary):\n",
    "\n",
    "    new_dict = dictionary.copy()\n",
    "    \n",
    "    for item in dictionary:\n",
    "\n",
    "        if dictionary[item]['data'].empty == True:\n",
    "            new_dict.pop(item) # Gets rid of that item!\n",
    "        else:\n",
    "            continue\n",
    "\n",
    "    return new_dict"
   ]
  },
  {
   "cell_type": "code",
   "execution_count": 5,
   "id": "e1d9527a-b0a3-4025-9bce-c3f170517ad9",
   "metadata": {},
   "outputs": [
    {
     "data": {
      "text/html": [
       "\n",
       "            <style>\n",
       "                .geemap-dark {\n",
       "                    --jp-widgets-color: white;\n",
       "                    --jp-widgets-label-color: white;\n",
       "                    --jp-ui-font-color1: white;\n",
       "                    --jp-layout-color2: #454545;\n",
       "                    background-color: #383838;\n",
       "                }\n",
       "\n",
       "                .geemap-dark .jupyter-button {\n",
       "                    --jp-layout-color3: #383838;\n",
       "                }\n",
       "\n",
       "                .geemap-colab {\n",
       "                    background-color: var(--colab-primary-surface-color, white);\n",
       "                }\n",
       "\n",
       "                .geemap-colab .jupyter-button {\n",
       "                    --jp-layout-color3: var(--colab-primary-surface-color, white);\n",
       "                }\n",
       "            </style>\n",
       "            "
      ],
      "text/plain": [
       "<IPython.core.display.HTML object>"
      ]
     },
     "metadata": {},
     "output_type": "display_data"
    },
    {
     "data": {
      "text/plain": [
       "dict_keys(['forests', 'hills', 'borders', 'mountains', 'rivers', 'swamps', 'waters'])"
      ]
     },
     "execution_count": 5,
     "metadata": {},
     "output_type": "execute_result"
    }
   ],
   "source": [
    "terrain_layers = remove_empty_layers(terrain_layers)\n",
    "\n",
    "terrain_layers.keys()"
   ]
  },
  {
   "cell_type": "markdown",
   "id": "ef9cec9e-6463-46d1-8c60-84550e6f2ef3",
   "metadata": {},
   "source": [
    "#### Initialize Google Earth Engine"
   ]
  },
  {
   "cell_type": "markdown",
   "id": "d6351527-1e88-411e-983d-c8e9ae8f378b",
   "metadata": {},
   "source": [
    "NOTE: before launching Jupyter Lab, you MUST enter \"earthengine authenticate\" in the Conda terminal."
   ]
  },
  {
   "cell_type": "code",
   "execution_count": 6,
   "id": "9cfbbcd3-5983-4c10-8f64-7d122b4574e7",
   "metadata": {},
   "outputs": [
    {
     "data": {
      "text/html": [
       "\n",
       "            <style>\n",
       "                .geemap-dark {\n",
       "                    --jp-widgets-color: white;\n",
       "                    --jp-widgets-label-color: white;\n",
       "                    --jp-ui-font-color1: white;\n",
       "                    --jp-layout-color2: #454545;\n",
       "                    background-color: #383838;\n",
       "                }\n",
       "\n",
       "                .geemap-dark .jupyter-button {\n",
       "                    --jp-layout-color3: #383838;\n",
       "                }\n",
       "\n",
       "                .geemap-colab {\n",
       "                    background-color: var(--colab-primary-surface-color, white);\n",
       "                }\n",
       "\n",
       "                .geemap-colab .jupyter-button {\n",
       "                    --jp-layout-color3: var(--colab-primary-surface-color, white);\n",
       "                }\n",
       "            </style>\n",
       "            "
      ],
      "text/plain": [
       "<IPython.core.display.HTML object>"
      ]
     },
     "metadata": {},
     "output_type": "display_data"
    }
   ],
   "source": [
    "ee.Authenticate() # Substitutes for entering it in the console manually, I believe\n",
    "\n",
    "# Initialize the Earth Engine module.\n",
    "ee.Initialize()"
   ]
  },
  {
   "cell_type": "markdown",
   "id": "73c56b23-3688-4d3b-a1fc-c787688e1df5",
   "metadata": {},
   "source": [
    "### Functions"
   ]
  },
  {
   "cell_type": "markdown",
   "id": "6be5a3b8-d2d6-4a53-9e5f-341c596a8b0b",
   "metadata": {},
   "source": [
    "#### GPD to EE"
   ]
  },
  {
   "cell_type": "code",
   "execution_count": 7,
   "id": "4d0d0b37-9512-48a8-b8be-adf77026633b",
   "metadata": {},
   "outputs": [
    {
     "data": {
      "text/html": [
       "\n",
       "            <style>\n",
       "                .geemap-dark {\n",
       "                    --jp-widgets-color: white;\n",
       "                    --jp-widgets-label-color: white;\n",
       "                    --jp-ui-font-color1: white;\n",
       "                    --jp-layout-color2: #454545;\n",
       "                    background-color: #383838;\n",
       "                }\n",
       "\n",
       "                .geemap-dark .jupyter-button {\n",
       "                    --jp-layout-color3: #383838;\n",
       "                }\n",
       "\n",
       "                .geemap-colab {\n",
       "                    background-color: var(--colab-primary-surface-color, white);\n",
       "                }\n",
       "\n",
       "                .geemap-colab .jupyter-button {\n",
       "                    --jp-layout-color3: var(--colab-primary-surface-color, white);\n",
       "                }\n",
       "            </style>\n",
       "            "
      ],
      "text/plain": [
       "<IPython.core.display.HTML object>"
      ]
     },
     "metadata": {},
     "output_type": "display_data"
    }
   ],
   "source": [
    "def gpd_to_ee(data):\n",
    "\n",
    "    ee_object = geemap.geopandas_to_ee(gdf = data)\n",
    "    \n",
    "    return ee_object"
   ]
  },
  {
   "cell_type": "markdown",
   "id": "27ca112d-be1d-4284-8a31-612ebb5b217c",
   "metadata": {},
   "source": [
    "#### Add Property"
   ]
  },
  {
   "cell_type": "markdown",
   "id": "9c378859-873a-4ee7-81d5-13477c43414e",
   "metadata": {},
   "source": [
    "This function takes a feature, and assigns it a 'cost' of a certain value. The intent is to loop this across a feature collection via .map()."
   ]
  },
  {
   "cell_type": "code",
   "execution_count": 8,
   "id": "2a963107-e4ec-4a4c-96dd-d031dcd2e842",
   "metadata": {},
   "outputs": [
    {
     "data": {
      "text/html": [
       "\n",
       "            <style>\n",
       "                .geemap-dark {\n",
       "                    --jp-widgets-color: white;\n",
       "                    --jp-widgets-label-color: white;\n",
       "                    --jp-ui-font-color1: white;\n",
       "                    --jp-layout-color2: #454545;\n",
       "                    background-color: #383838;\n",
       "                }\n",
       "\n",
       "                .geemap-dark .jupyter-button {\n",
       "                    --jp-layout-color3: #383838;\n",
       "                }\n",
       "\n",
       "                .geemap-colab {\n",
       "                    background-color: var(--colab-primary-surface-color, white);\n",
       "                }\n",
       "\n",
       "                .geemap-colab .jupyter-button {\n",
       "                    --jp-layout-color3: var(--colab-primary-surface-color, white);\n",
       "                }\n",
       "            </style>\n",
       "            "
      ],
      "text/plain": [
       "<IPython.core.display.HTML object>"
      ]
     },
     "metadata": {},
     "output_type": "display_data"
    }
   ],
   "source": [
    "# Why two functions? .map() does not really accept arguments other than data source, so defining the loop function within this function\n",
    "# allows me to have a function where cost is supplied as an argument, without having to do something cheap like calling cost as a\n",
    "# global variable.\n",
    "def add_property(data, property_name, property_value):\n",
    "\n",
    "    def loop_function(data): # function to be looped across features\n",
    "\n",
    "        result = data.set(property_name, property_value)\n",
    "\n",
    "        return result\n",
    "\n",
    "    result = data.map(loop_function)\n",
    "\n",
    "    return result"
   ]
  },
  {
   "cell_type": "markdown",
   "id": "187e4c62-e44e-4676-aace-d31a78d5ef77",
   "metadata": {},
   "source": [
    "#### Rasterize Feature"
   ]
  },
  {
   "cell_type": "markdown",
   "id": "d6f31576-d605-4f62-8e39-8982a3ce7ce4",
   "metadata": {},
   "source": [
    "This function takes an ee.feature, and turns it into a raster. This has two main uses:\n",
    "\n",
    "1) Constructing the blank raster. The blank raster is the raster upon which all additional rasters are added to, creating the cost distance map. It is created by rasterizing the bounding box.\n",
    "\n",
    "2) Constructing individual layers. These are the layers being added to the blank raster."
   ]
  },
  {
   "cell_type": "code",
   "execution_count": 9,
   "id": "ea692aff-4dfa-46b8-837a-d4f15b78ae75",
   "metadata": {},
   "outputs": [
    {
     "data": {
      "text/html": [
       "\n",
       "            <style>\n",
       "                .geemap-dark {\n",
       "                    --jp-widgets-color: white;\n",
       "                    --jp-widgets-label-color: white;\n",
       "                    --jp-ui-font-color1: white;\n",
       "                    --jp-layout-color2: #454545;\n",
       "                    background-color: #383838;\n",
       "                }\n",
       "\n",
       "                .geemap-dark .jupyter-button {\n",
       "                    --jp-layout-color3: #383838;\n",
       "                }\n",
       "\n",
       "                .geemap-colab {\n",
       "                    background-color: var(--colab-primary-surface-color, white);\n",
       "                }\n",
       "\n",
       "                .geemap-colab .jupyter-button {\n",
       "                    --jp-layout-color3: var(--colab-primary-surface-color, white);\n",
       "                }\n",
       "            </style>\n",
       "            "
      ],
      "text/plain": [
       "<IPython.core.display.HTML object>"
      ]
     },
     "metadata": {},
     "output_type": "display_data"
    }
   ],
   "source": [
    "# NOTE: might not work with feature collections! Make another function / include as argument if this is the case!\n",
    "def rasterize_feature(data):\n",
    "\n",
    "    result = data.reduceToImage(\n",
    "        properties = ['cost'],\n",
    "        # The reducer answers the question, 'what if there's an overlap?' The 'first' reducer simply favors based on order.\n",
    "        reducer = ee.Reducer.first()\n",
    "    )\n",
    "\n",
    "    result = result.toInt() # CRITICAL: assumes that I'm using only integers, which so far is the plan!!\n",
    "\n",
    "    return result"
   ]
  },
  {
   "cell_type": "markdown",
   "id": "1e9a33b7-a8d3-49a2-95f7-1100c7c80714",
   "metadata": {},
   "source": [
    "### Cleaning"
   ]
  },
  {
   "cell_type": "markdown",
   "id": "fa8ba548-a4bf-4663-a9f0-8be96462c712",
   "metadata": {},
   "source": [
    "This script calculates and plots the cost distance map and features. By default, the plotting part should be disabled. Why? Because, while the calculations are server-side, meaning they're quick, the plotting is necessarily client-side, so it's a *lot* of data your computer must now plot. My computer struggles to do that."
   ]
  },
  {
   "cell_type": "markdown",
   "id": "91c96421-868a-4514-bda5-f546cc07506e",
   "metadata": {},
   "source": [
    "#### Create Study Area"
   ]
  },
  {
   "cell_type": "markdown",
   "id": "70672e96-dc43-4cbc-87e5-da9caec462bc",
   "metadata": {},
   "source": [
    "This'll be useful throughout. Let's create and use the bouding box from before as a separate image."
   ]
  },
  {
   "cell_type": "code",
   "execution_count": 10,
   "id": "0b8be0e6-17d4-4f6e-8de5-b923728471fd",
   "metadata": {},
   "outputs": [
    {
     "data": {
      "text/html": [
       "\n",
       "            <style>\n",
       "                .geemap-dark {\n",
       "                    --jp-widgets-color: white;\n",
       "                    --jp-widgets-label-color: white;\n",
       "                    --jp-ui-font-color1: white;\n",
       "                    --jp-layout-color2: #454545;\n",
       "                    background-color: #383838;\n",
       "                }\n",
       "\n",
       "                .geemap-dark .jupyter-button {\n",
       "                    --jp-layout-color3: #383838;\n",
       "                }\n",
       "\n",
       "                .geemap-colab {\n",
       "                    background-color: var(--colab-primary-surface-color, white);\n",
       "                }\n",
       "\n",
       "                .geemap-colab .jupyter-button {\n",
       "                    --jp-layout-color3: var(--colab-primary-surface-color, white);\n",
       "                }\n",
       "            </style>\n",
       "            "
      ],
      "text/plain": [
       "<IPython.core.display.HTML object>"
      ]
     },
     "metadata": {},
     "output_type": "display_data"
    }
   ],
   "source": [
    "study_ee = studyarea.copy()\n",
    "\n",
    "study_ee = gpd_to_ee(study_ee)\n",
    "\n",
    "#study_ee"
   ]
  },
  {
   "cell_type": "code",
   "execution_count": 11,
   "id": "61e991d2-5dbc-47d9-b9cb-e52a9b0351a7",
   "metadata": {},
   "outputs": [
    {
     "data": {
      "text/html": [
       "\n",
       "            <style>\n",
       "                .geemap-dark {\n",
       "                    --jp-widgets-color: white;\n",
       "                    --jp-widgets-label-color: white;\n",
       "                    --jp-ui-font-color1: white;\n",
       "                    --jp-layout-color2: #454545;\n",
       "                    background-color: #383838;\n",
       "                }\n",
       "\n",
       "                .geemap-dark .jupyter-button {\n",
       "                    --jp-layout-color3: #383838;\n",
       "                }\n",
       "\n",
       "                .geemap-colab {\n",
       "                    background-color: var(--colab-primary-surface-color, white);\n",
       "                }\n",
       "\n",
       "                .geemap-colab .jupyter-button {\n",
       "                    --jp-layout-color3: var(--colab-primary-surface-color, white);\n",
       "                }\n",
       "            </style>\n",
       "            "
      ],
      "text/plain": [
       "<IPython.core.display.HTML object>"
      ]
     },
     "metadata": {},
     "output_type": "display_data"
    }
   ],
   "source": [
    "run = False\n",
    "\n",
    "if run == True:\n",
    "\n",
    "    Map = geemap.Map()\n",
    "    \n",
    "    Map.addLayer(\n",
    "        ee_object = ee.Image().paint(\n",
    "            study_ee,\n",
    "            color = 0, # Black\n",
    "            width = 10\n",
    "        ),\n",
    "        #vis_params = cost_map_spec,\n",
    "        name = 'Study Area',\n",
    "        shown = True\n",
    "    )\n",
    "    \n",
    "    Map.centerObject(\n",
    "        ee_object = study_ee,\n",
    "        zoom = 6\n",
    "    )\n",
    "    \n",
    "    Map"
   ]
  },
  {
   "cell_type": "markdown",
   "id": "a88ff8b8-1717-43eb-a2cc-25bfab04b5b1",
   "metadata": {},
   "source": [
    "#### Construct Cost Map"
   ]
  },
  {
   "cell_type": "code",
   "execution_count": 12,
   "id": "c3143565-46e3-48f7-b130-65530eb8ade9",
   "metadata": {},
   "outputs": [
    {
     "data": {
      "text/html": [
       "\n",
       "            <style>\n",
       "                .geemap-dark {\n",
       "                    --jp-widgets-color: white;\n",
       "                    --jp-widgets-label-color: white;\n",
       "                    --jp-ui-font-color1: white;\n",
       "                    --jp-layout-color2: #454545;\n",
       "                    background-color: #383838;\n",
       "                }\n",
       "\n",
       "                .geemap-dark .jupyter-button {\n",
       "                    --jp-layout-color3: #383838;\n",
       "                }\n",
       "\n",
       "                .geemap-colab {\n",
       "                    background-color: var(--colab-primary-surface-color, white);\n",
       "                }\n",
       "\n",
       "                .geemap-colab .jupyter-button {\n",
       "                    --jp-layout-color3: var(--colab-primary-surface-color, white);\n",
       "                }\n",
       "            </style>\n",
       "            "
      ],
      "text/plain": [
       "<IPython.core.display.HTML object>"
      ]
     },
     "metadata": {},
     "output_type": "display_data"
    }
   ],
   "source": [
    "image_list = ee.List([])\n",
    "\n",
    "feature_list = ee.List([]) # used for diagnostic check\n",
    "\n",
    "layer_list = ee.List([]) # Used for iterating across layer names\n",
    "\n",
    "layer_num = 0 # Assigning each feature a number, for coloring purposes\n",
    "\n",
    "for item in terrain_layers:\n",
    "\n",
    "    layer_num += 1\n",
    "\n",
    "    layer_list = layer_list.add(item)\n",
    "\n",
    "    # Transform layer from GDF to ee.Feature\n",
    "    layer = terrain_layers[item]['data'].copy()\n",
    "    layer = gpd_to_ee(layer)\n",
    "\n",
    "    # Add properties\n",
    "    layer = add_property(\n",
    "        layer,\n",
    "        property_name = 'cost',\n",
    "        property_value = terrain_layers[item]['cost']\n",
    "    )\n",
    "    layer = add_property(\n",
    "        layer,\n",
    "        property_name = 'layer',\n",
    "        property_value = item\n",
    "    )\n",
    "    layer = add_property(\n",
    "        layer,\n",
    "        property_name = 'layer_num',\n",
    "        property_value = layer_num\n",
    "    )\n",
    "    layer = add_property(\n",
    "        layer,\n",
    "        property_name = 'color',\n",
    "        property_value = terrain_layers[item]['color']\n",
    "    )\n",
    "    layer = layer.set({'layer': item}) # Applied at collection level, for better organization\n",
    "\n",
    "    # Save the layer while it's still a feature, for diagnostics\n",
    "    feature_list = feature_list.add(layer)\n",
    "    TEST_DIAG = layer\n",
    "\n",
    "    # Rasterize\n",
    "    layer = rasterize_feature(layer)\n",
    "\n",
    "    image_list = image_list.add(ee.FeatureCollection(layer))\n",
    "\n",
    "input_images = ee.ImageCollection(image_list)\n",
    "# DONT make features into a featurecollection, I want them as separate collections!\n",
    "input_features = ee.FeatureCollection(feature_list).flatten()\n",
    "\n",
    "cost_map = input_images.reduce(\n",
    "    reducer = ee.Reducer.sum()\n",
    ") # Maybe adding .reduce will make it server-side?\n",
    "\n",
    "cost_map = cost_map.toInt() # Otherwise it cant export. Plus, for some reason, it defaults to long"
   ]
  },
  {
   "cell_type": "raw",
   "id": "96dcea71-0efd-4f3f-a6ca-ee10789a7ee4",
   "metadata": {
    "scrolled": true
   },
   "source": [
    "feature_list.get(0)"
   ]
  },
  {
   "cell_type": "markdown",
   "id": "43548299-16fa-4294-973f-28003249f7b0",
   "metadata": {},
   "source": [
    "#### Summary Stats (Disabled)"
   ]
  },
  {
   "cell_type": "markdown",
   "id": "ecbbbf73-9b53-4313-be57-ae35cabf2b5c",
   "metadata": {},
   "source": [
    "For diagnostics as well as the map, let's calculate summary statistics for the cost map."
   ]
  },
  {
   "cell_type": "raw",
   "id": "1181090c-d686-45e9-b6b5-b92a6e3d9201",
   "metadata": {},
   "source": [
    "cost_stats = geemap.image_stats(\n",
    "    img = cost_map.select('first_sum'),\n",
    "    region = study_ee.geometry().bounds()\n",
    ")\n",
    "\n",
    "#cost_stats.getNumber('min').getInfo() # Should work? Apparently how you extract info server-side from dictionary\n",
    "\n",
    "cost_stats = cost_stats.getInfo()\n",
    "\n",
    "cost_stats"
   ]
  },
  {
   "cell_type": "markdown",
   "id": "2d3a93bf-017f-465f-af4b-11d0c1383df9",
   "metadata": {},
   "source": [
    "### Diagnostic Map (Disabled)"
   ]
  },
  {
   "cell_type": "markdown",
   "id": "16bbc49a-9a0a-46b5-a464-40ae1d6be12b",
   "metadata": {},
   "source": [
    "This map plots each input feature, so it can be confirmed that the costs really make sense."
   ]
  },
  {
   "cell_type": "raw",
   "id": "6760c032-29c9-4fc3-a954-5ef664b1f14a",
   "metadata": {},
   "source": [
    "Map = geemap.Map()\n",
    "\n",
    "Map.addLayer(\n",
    "    ee_object = ee.Image().paint(\n",
    "        study_ee,\n",
    "        color = 0, # Black\n",
    "        width = 10\n",
    "    ),\n",
    "    #vis_params = cost_map_spec,\n",
    "    name = 'Study Area',\n",
    "    shown = True\n",
    ")\n",
    "\n",
    "# Input features\n",
    "remove_list = ['borders'] # DONT PLOT THESE!\n",
    "\n",
    "for item in terrain_layers: # Using just for item names\n",
    "\n",
    "    if item in remove_list:\n",
    "        continue\n",
    "\n",
    "    Map.addLayer(\n",
    "        ee_object = input_features.filter(ee.Filter.eq('layer', item)),\n",
    "        name = item,\n",
    "        vis_params = {'color': terrain_layers[item]['color']}\n",
    "    )\n",
    "Map.centerObject(\n",
    "    ee_object = study_ee,\n",
    "    zoom = 6\n",
    ")\n",
    "\n",
    "#Map"
   ]
  },
  {
   "cell_type": "markdown",
   "id": "46ebb362-e507-4a6e-b22a-9fd425b672ee",
   "metadata": {},
   "source": [
    "### Cost Map (Disabled)"
   ]
  },
  {
   "cell_type": "raw",
   "id": "24094e7d-762a-4fbc-b5eb-77d6dea89609",
   "metadata": {},
   "source": [
    "cost_map"
   ]
  },
  {
   "cell_type": "raw",
   "id": "09f10dca-0fe5-4b8b-aa65-94762dfb9cb0",
   "metadata": {},
   "source": [
    "displayed_image = cost_map.select('first')\n",
    "display('Projection, crs, and crs_transform:', displayed_image.projection())\n",
    "display('Scale in meters:', displayed_image.projection().nominalScale())"
   ]
  },
  {
   "cell_type": "raw",
   "id": "de7fcc82-738a-44fa-ba3c-5590a3691633",
   "metadata": {},
   "source": [
    "cost_map_spec = {\n",
    "    'min': cost_stats['min']['first_sum'],\n",
    "    'max': cost_stats['max']['first_sum'], # Hard-coded for now; figure out later!\n",
    "    'palette': ['green','yellow','red']\n",
    "};\n"
   ]
  },
  {
   "cell_type": "raw",
   "id": "ce9d5a00-a0b9-49ef-bc92-e1f2043cbac1",
   "metadata": {},
   "source": [
    "Map = geemap.Map()\n",
    "\n",
    "Map.addLayer(\n",
    "    ee_object = ee.Image().paint(\n",
    "        study_ee,\n",
    "        color = 0, # Black\n",
    "        width = 10\n",
    "    ),\n",
    "    #vis_params = cost_map_spec,\n",
    "    name = 'Study Area',\n",
    "    shown = True\n",
    ")\n",
    "\n",
    "Map.addLayer(\n",
    "    ee_object = cost_map,\n",
    "    vis_params = cost_map_spec,\n",
    "    name = 'Cost Map',\n",
    "    shown = True\n",
    ")\n",
    "\n",
    "Map.centerObject(\n",
    "    ee_object = study_ee,\n",
    "    zoom = 6\n",
    ")\n",
    "\n",
    "#Map"
   ]
  },
  {
   "cell_type": "markdown",
   "id": "1f9080ea-cc14-4527-abb1-f9d269ddc759",
   "metadata": {},
   "source": [
    "# Export (Disabled)"
   ]
  },
  {
   "cell_type": "markdown",
   "id": "452f35e9-b6ac-433e-903d-8b03a4463bf2",
   "metadata": {},
   "source": [
    "Disabled because, with how the code works now, there's no need to export this to Google Drive. Though, the truth of the matter will be settled once the road network script gets developed. For that script, it may actually be better to export an image before calling it back, as, that way, the image is *forced* to take on the designated resolution."
   ]
  },
  {
   "cell_type": "raw",
   "id": "e9d4ad03-ff34-454e-983a-dbe0c1a7fb4c",
   "metadata": {},
   "source": [
    "# Required method for exporting large images\n",
    "task = ee.batch.Export.image.toDrive(image=cost_map,\n",
    "                                     description='Basic cost map, using just terrain data.',\n",
    "                                     scale=parameter_resolution,\n",
    "                                     region=gpd_to_ee(studyarea).geometry(),\n",
    "                                     fileNamePrefix='terrain_cost_map',\n",
    "                                     crs='EPSG:4326',\n",
    "                                     maxPixels = 1e10,\n",
    "                                     fileFormat='GeoTIFF')\n",
    "task.start()"
   ]
  },
  {
   "cell_type": "raw",
   "id": "93e9106b-82ea-475f-8d69-00b9a30426ff",
   "metadata": {},
   "source": [
    "task.status()"
   ]
  },
  {
   "cell_type": "markdown",
   "id": "dd87964f-454e-4477-ad08-af4ca870f94f",
   "metadata": {},
   "source": [
    "# Run Message"
   ]
  },
  {
   "cell_type": "markdown",
   "id": "3e5f8b91-dcfe-42a3-a7b7-b97a9f0aa874",
   "metadata": {},
   "source": [
    "This is to show key info when this script is run in another script."
   ]
  },
  {
   "cell_type": "code",
   "execution_count": 13,
   "id": "7420829b-e8b4-4fef-b8b7-6f8abeb07baf",
   "metadata": {},
   "outputs": [
    {
     "data": {
      "text/html": [
       "\n",
       "            <style>\n",
       "                .geemap-dark {\n",
       "                    --jp-widgets-color: white;\n",
       "                    --jp-widgets-label-color: white;\n",
       "                    --jp-ui-font-color1: white;\n",
       "                    --jp-layout-color2: #454545;\n",
       "                    background-color: #383838;\n",
       "                }\n",
       "\n",
       "                .geemap-dark .jupyter-button {\n",
       "                    --jp-layout-color3: #383838;\n",
       "                }\n",
       "\n",
       "                .geemap-colab {\n",
       "                    background-color: var(--colab-primary-surface-color, white);\n",
       "                }\n",
       "\n",
       "                .geemap-colab .jupyter-button {\n",
       "                    --jp-layout-color3: var(--colab-primary-surface-color, white);\n",
       "                }\n",
       "            </style>\n",
       "            "
      ],
      "text/plain": [
       "<IPython.core.display.HTML object>"
      ]
     },
     "metadata": {},
     "output_type": "display_data"
    },
    {
     "name": "stdout",
     "output_type": "stream",
     "text": [
      "Terrain Cost Distance Script has been run successfully!\n"
     ]
    }
   ],
   "source": [
    "print(\"Terrain Cost Distance Script has been run successfully!\")"
   ]
  }
 ],
 "metadata": {
  "kernelspec": {
   "display_name": "Python 3 (ipykernel)",
   "language": "python",
   "name": "python3"
  },
  "language_info": {
   "codemirror_mode": {
    "name": "ipython",
    "version": 3
   },
   "file_extension": ".py",
   "mimetype": "text/x-python",
   "name": "python",
   "nbconvert_exporter": "python",
   "pygments_lexer": "ipython3",
   "version": "3.12.5"
  }
 },
 "nbformat": 4,
 "nbformat_minor": 5
}
