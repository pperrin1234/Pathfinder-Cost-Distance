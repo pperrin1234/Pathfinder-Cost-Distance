{
 "cells": [
  {
   "cell_type": "markdown",
   "id": "6d2ef051-5064-4059-a6be-ec6222b5d044",
   "metadata": {},
   "source": [
    "# Setup"
   ]
  },
  {
   "cell_type": "markdown",
   "id": "5e1aa0ba-45e3-484a-9c6f-97a5ba01e4c5",
   "metadata": {},
   "source": [
    "### Script Description"
   ]
  },
  {
   "cell_type": "markdown",
   "id": "449a7b8c-3902-4b1d-bb0d-d8b0b802b8ef",
   "metadata": {},
   "source": [
    "The master script is where all key parameters are defined, packages imported, and so on."
   ]
  },
  {
   "cell_type": "markdown",
   "id": "1e726a68-c953-4a40-bac5-ca7e3c864114",
   "metadata": {},
   "source": [
    "### To Do\n",
    "- IDEA: make a recursive, two-phase cost-distance map. The first uses just terrain layers, and produces a cost-distance map. Then based on that map, I start simulating the construction of road networks. I assume that the modern road network bears no relation to some ancient one, as ancient roads fell into disrepair and stopped being used. More broadly, it assumes that road networks are determined by the distances of large cities to one another.\n",
    "- So then, once I have the major road network, I then path from the next tier of cities to all cities of higher tiers around them--ex: if nearby two major cities, then create road network for both, taking advantage of the existing network.\n",
    "- The idea here is that this'll organically create a realistic looking network, one which takes into account both natural terrain and the spatial distribution of major cities.\n",
    "- So then I repeat this, going down a tier each time. First, large cities create a road network between themselves, then minor cities connect to nearby major cities, then towns to nearby minor cities, and so on.\n",
    "- I may potentially need to rewrite this so settlements below cities path only to the tier directly above, if I end up generating far too elaborate road networks. This isn't the modern day, after all! But, then again, 'road network' often means a dirt path. So maybe make the roads vary in quality--so roads between major cities are highest tier, and from villages lowest. And in practice, the layers would be which places are *not* a given quality of road. And maybe the penalty would scale with distance from roads? (No, probably a bad idea--increases computation time without really adding much, I think.)"
   ]
  },
  {
   "cell_type": "markdown",
   "id": "3d6646a3-f0cb-4c1a-835d-fdc710a2e503",
   "metadata": {},
   "source": [
    "### Packages"
   ]
  },
  {
   "cell_type": "code",
   "execution_count": 13,
   "id": "2fc53310-0ded-4e27-9c96-dea36c385f2c",
   "metadata": {},
   "outputs": [
    {
     "data": {
      "text/html": [
       "\n",
       "            <style>\n",
       "                .geemap-dark {\n",
       "                    --jp-widgets-color: white;\n",
       "                    --jp-widgets-label-color: white;\n",
       "                    --jp-ui-font-color1: white;\n",
       "                    --jp-layout-color2: #454545;\n",
       "                    background-color: #383838;\n",
       "                }\n",
       "\n",
       "                .geemap-dark .jupyter-button {\n",
       "                    --jp-layout-color3: #383838;\n",
       "                }\n",
       "\n",
       "                .geemap-colab {\n",
       "                    background-color: var(--colab-primary-surface-color, white);\n",
       "                }\n",
       "\n",
       "                .geemap-colab .jupyter-button {\n",
       "                    --jp-layout-color3: var(--colab-primary-surface-color, white);\n",
       "                }\n",
       "            </style>\n",
       "            "
      ],
      "text/plain": [
       "<IPython.core.display.HTML object>"
      ]
     },
     "metadata": {},
     "output_type": "display_data"
    }
   ],
   "source": [
    "# base\n",
    "import os\n",
    "import datetime\n",
    "import json # For exporting to JSON\n",
    "import re # Used for some cleaning\n",
    "\n",
    "# Data cleaning\n",
    "import pandas as pd\n",
    "import numpy as np\n",
    "\n",
    "# Geospatial\n",
    "import geopandas as gpd\n",
    "from shapely.geometry import box # To create bounding box\n",
    "\n",
    "# Rasters\n",
    "import rasterio as rio\n",
    "from rasterio.mask import mask # For masking, AKA cropping a raster\n",
    "import fiona as fio\n",
    "\n",
    "# Visualization\n",
    "from matplotlib import pyplot as plt\n",
    "import matplotlib.patches as mpatches\n",
    "\n",
    "# Web Scraping\n",
    "import requests as req\n",
    "from bs4 import BeautifulSoup\n",
    "\n",
    "# Google Earth Engine\n",
    "# NOTE: to use ee, must install earthengine-api\n",
    "import ee # Needed to use their cloud computing! \n",
    "import geemap # Interactive mapping + converting from geojson to ee file"
   ]
  },
  {
   "cell_type": "markdown",
   "id": "247bb17e-f2e7-4747-9cb4-8f950edcb035",
   "metadata": {},
   "source": [
    "### Pathways"
   ]
  },
  {
   "cell_type": "code",
   "execution_count": 27,
   "id": "841144f0-a49d-4e25-aa64-00244e766e33",
   "metadata": {},
   "outputs": [
    {
     "data": {
      "text/html": [
       "\n",
       "            <style>\n",
       "                .geemap-dark {\n",
       "                    --jp-widgets-color: white;\n",
       "                    --jp-widgets-label-color: white;\n",
       "                    --jp-ui-font-color1: white;\n",
       "                    --jp-layout-color2: #454545;\n",
       "                    background-color: #383838;\n",
       "                }\n",
       "\n",
       "                .geemap-dark .jupyter-button {\n",
       "                    --jp-layout-color3: #383838;\n",
       "                }\n",
       "\n",
       "                .geemap-colab {\n",
       "                    background-color: var(--colab-primary-surface-color, white);\n",
       "                }\n",
       "\n",
       "                .geemap-colab .jupyter-button {\n",
       "                    --jp-layout-color3: var(--colab-primary-surface-color, white);\n",
       "                }\n",
       "            </style>\n",
       "            "
      ],
      "text/plain": [
       "<IPython.core.display.HTML object>"
      ]
     },
     "metadata": {},
     "output_type": "display_data"
    }
   ],
   "source": [
    "directory_loc = os.path.abspath(os.getcwd())\n",
    "directory_loc = re.sub(r'\\\\',r'/',directory_loc) + '/' # Cleans backslashes\n",
    "\n",
    "# Where the source data is located\n",
    "source_loc = directory_loc + 'Data/' + 'Source/'\n",
    "\n",
    "# Where cleaned data is uploaded to / stored\n",
    "clean_loc = directory_loc + 'Data/' + 'Cleaned_Data/'\n",
    "\n",
    "# Where my Google Drive is located, which is where Google Earth Engine data is exported to\n",
    "google_loc = 'Path to Google Drive' # NOTE: not currently necessary, as the code using this is disabled"
   ]
  },
  {
   "cell_type": "markdown",
   "id": "36920cea-c4a5-4fd9-baeb-df2905884647",
   "metadata": {},
   "source": [
    "### Parameters"
   ]
  },
  {
   "cell_type": "markdown",
   "id": "f5c931cc-52e6-4dd1-944a-a8506de19264",
   "metadata": {},
   "source": [
    "The parameters in the Master Script affect key parameters across the rest of the scripts. Important to note, however, is that these parameters can be overwritten in other scripts. These overwrites are in the same cell as the cell in each script which runs prior scripts."
   ]
  },
  {
   "cell_type": "markdown",
   "id": "87ea2bef-7454-4cea-9b47-f829396209bd",
   "metadata": {},
   "source": [
    "#### Study Area"
   ]
  },
  {
   "cell_type": "markdown",
   "id": "eeff3310-ebad-4cb8-91e7-913b09e28bf1",
   "metadata": {},
   "source": [
    "Here, we control what the spatial scope of the study area should be. The study space is a bounding box around a given geometry.\n",
    "\n",
    "**NOTE**: This parameter is overwritten in the Kingmaker Intro Map script."
   ]
  },
  {
   "cell_type": "markdown",
   "id": "73bce7b6-1872-4404-890c-0b6afe97a3af",
   "metadata": {},
   "source": [
    "The following study areas are:\n",
    "\n",
    "1) The Stolen Lands. This is a small area, good for testing.\n",
    "\n",
    "2) The Broken Lands. This is the region within which The Stolen Lands is located. Used for mapping, as well as for tests which require greater scale.\n",
    "\n",
    "3) Continent. This looks at the entire continent within which The Broken Lands is located."
   ]
  },
  {
   "cell_type": "code",
   "execution_count": 1,
   "id": "72a4157d-d55a-4745-9ae1-b5eebcdf93f6",
   "metadata": {},
   "outputs": [],
   "source": [
    "# Choices so far: Continent, Broken Lands, Stolen Lands\n",
    "\n",
    "parameter_studyarea = 'Stolen Lands'"
   ]
  },
  {
   "cell_type": "markdown",
   "id": "06210362-98e5-4a7d-8b6c-933446c66a9b",
   "metadata": {},
   "source": [
    "#### Geometry Precision"
   ]
  },
  {
   "cell_type": "markdown",
   "id": "ea1a7f8d-11b0-4b05-ab75-d1e705884945",
   "metadata": {},
   "source": [
    "Precision is the number of decimal points each point goes to in each geometry. The higher the precision, the more bytes of data. Depending on how much precision one wants, it may actually help to reduce precision, to make things easier in future steps.\n",
    "\n",
    "Currently, however, the code this parameter effects is disabled. This is because the savings in computation time are not required at the moment."
   ]
  },
  {
   "cell_type": "code",
   "execution_count": 3,
   "id": "84b50a90-754e-40dc-ba26-05071af76735",
   "metadata": {},
   "outputs": [],
   "source": [
    "parameter_precision = 3"
   ]
  },
  {
   "cell_type": "markdown",
   "id": "7c14b0c5-c5f7-4a87-9a95-bc2a1380591b",
   "metadata": {},
   "source": [
    "#### Raster Resolution"
   ]
  },
  {
   "cell_type": "markdown",
   "id": "159c504c-a572-46ea-87da-027798cf68d5",
   "metadata": {},
   "source": [
    "Here we control what the resolution for the cost distance raster should be.\n",
    "\n",
    "30 meters is conventional for raster data of this scale. As the main purpose of this map is to path across large spans of space, 30m is relatively high resolution, good enough to visualize thin things like roads and rivers."
   ]
  },
  {
   "cell_type": "code",
   "execution_count": 2,
   "id": "8ef53a15-bfed-418f-8742-016c331ef7b1",
   "metadata": {},
   "outputs": [],
   "source": [
    "parameter_resolution = 30 # meters"
   ]
  },
  {
   "cell_type": "markdown",
   "id": "6ffd3c4d-5a15-4781-b21d-c86f4bcbaea3",
   "metadata": {},
   "source": [
    "# Run Message"
   ]
  },
  {
   "cell_type": "markdown",
   "id": "bf44a040-45fa-4fee-b5a7-472ecd235504",
   "metadata": {},
   "source": [
    "Useful diagnostic to keep track of what scripts were run."
   ]
  },
  {
   "cell_type": "code",
   "execution_count": null,
   "id": "92fe0f2d-24cc-4819-a0c1-11eb1803b851",
   "metadata": {},
   "outputs": [],
   "source": [
    "print(\"Master Script has been run successfully!\")"
   ]
  }
 ],
 "metadata": {
  "kernelspec": {
   "display_name": "Python 3 (ipykernel)",
   "language": "python",
   "name": "python3"
  },
  "language_info": {
   "codemirror_mode": {
    "name": "ipython",
    "version": 3
   },
   "file_extension": ".py",
   "mimetype": "text/x-python",
   "name": "python",
   "nbconvert_exporter": "python",
   "pygments_lexer": "ipython3",
   "version": "3.12.5"
  }
 },
 "nbformat": 4,
 "nbformat_minor": 5
}
